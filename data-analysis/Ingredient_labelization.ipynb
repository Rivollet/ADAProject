{
 "cells": [
  {
   "cell_type": "code",
   "execution_count": 1,
   "metadata": {
    "collapsed": true
   },
   "outputs": [],
   "source": [
    "from pymongo import MongoClient\n",
    "import datetime\n",
    "import numpy as np\n",
    "import pandas as pd\n",
    "import getpass\n",
    "import json\n",
    "\n",
    "import nltk\n",
    "from nltk.stem import WordNetLemmatizer"
   ]
  },
  {
   "cell_type": "markdown",
   "metadata": {},
   "source": [
    "Be sure you are connect on the **EPFL network** (connection at EPFL or via VPN)"
   ]
  },
  {
   "cell_type": "markdown",
   "metadata": {},
   "source": [
    "Note on authentification:\n",
    "* Your username-password pair has read-only credentials\n",
    "* Use the admin user to insert, modify, or create indexes"
   ]
  },
  {
   "cell_type": "code",
   "execution_count": 4,
   "metadata": {
    "collapsed": false
   },
   "outputs": [
    {
     "name": "stdout",
     "output_type": "stream",
     "text": [
      "MongoDB name: davidrivollet\n",
      "MongoDB password: ········\n"
     ]
    }
   ],
   "source": [
    "database = 'ada-project'\n",
    "user = input('MongoDB name: ')\n",
    "password = getpass.getpass('MongoDB password: ')"
   ]
  },
  {
   "cell_type": "code",
   "execution_count": 5,
   "metadata": {
    "collapsed": false
   },
   "outputs": [],
   "source": [
    "# Mongo Client and authentification\n",
    "client = MongoClient('www.cocotte-minute.ovh', 27017)\n",
    "db = client[database]\n",
    "db.authenticate(user, password)\n",
    "collection = db['recipes']"
   ]
  },
  {
   "cell_type": "markdown",
   "metadata": {},
   "source": [
    "# Construct ingredient DataFrame"
   ]
  },
  {
   "cell_type": "markdown",
   "metadata": {},
   "source": [
    "## Find ingredient labels"
   ]
  },
  {
   "cell_type": "code",
   "execution_count": 6,
   "metadata": {
    "collapsed": true
   },
   "outputs": [],
   "source": [
    "def tokenize_and_lemmatize(text):\n",
    "    # Tokenize\n",
    "    tokens_raw = nltk.regexp_tokenize(text, pattern='\\w+')\n",
    "\n",
    "    # Normalization\n",
    "    tokens_norm = [t.lower() for t in tokens_raw]\n",
    "\n",
    "    # Removing the numbers\n",
    "    tokens_without_digits = [t for t in tokens_norm if t.isdigit() == False]\n",
    "    \n",
    "    wnl = WordNetLemmatizer()\n",
    "    tokens_lemmatized = [wnl.lemmatize(t) for t in tokens_without_digits]\n",
    "    \n",
    "    return tokens_lemmatized"
   ]
  },
  {
   "cell_type": "code",
   "execution_count": 7,
   "metadata": {
    "collapsed": false
   },
   "outputs": [],
   "source": [
    "def count_occurences(text):\n",
    "    tokens_ref = tokenize_and_lemmatize(text[0])\n",
    "    \n",
    "    df_occurences = pd.DataFrame({'occurence': np.zeros(len(tokens_ref))}, index = tokens_ref)\n",
    "    df_occurences = df_occurences[~df_occurences.index.duplicated()]\n",
    "    \n",
    "    for sentence in text:\n",
    "        for token in tokenize_and_lemmatize(sentence):\n",
    "            found_token = False\n",
    "            \n",
    "            for token_ref in tokens_ref:\n",
    "                if(token == token_ref):\n",
    "                    occ = df_occurences.get_value(token, 'occurence')\n",
    "                    df_occurences.set_value(token, 'occurence', occ + 1)\n",
    "                    found_token = True\n",
    "            \n",
    "            if(found_token == False):\n",
    "                tokens_ref.append(token)\n",
    "                df_occurences.set_value(token, 'occurence', 1)\n",
    "\n",
    "    return df_occurences"
   ]
  },
  {
   "cell_type": "code",
   "execution_count": 8,
   "metadata": {
    "collapsed": true
   },
   "outputs": [],
   "source": [
    "def define_ingredient_label(text):\n",
    "    df_occurences = count_occurences(text)\n",
    "    \n",
    "    max_occ = df_occurences.max(axis=0).values[0]\n",
    "    if max_occ < len(text):\n",
    "        name_array = df_occurences[(df_occurences['occurence'] > max_occ - (max_occ/100*10))].index.values\n",
    "    else:\n",
    "        name_array = df_occurences[(df_occurences['occurence'] > len(text) - (len(text)/100*10))].index.values\n",
    "    \n",
    "    name = name_array[0]\n",
    "    for word in name_array[1:]:\n",
    "        name = name + \" \" + word\n",
    "    \n",
    "    return name"
   ]
  },
  {
   "cell_type": "code",
   "execution_count": 9,
   "metadata": {
    "collapsed": false
   },
   "outputs": [],
   "source": [
    "ingredients = collection.aggregate([\n",
    "    {\"$unwind\": \"$ingredients\" }, \n",
    "    {\"$group\": \n",
    "        {\"_id\": \"$ingredients.ingredientID\",\n",
    "         \"doc_count\": { \"$sum\": 1 },\n",
    "         \"doc_name\": {\"$addToSet\": \"$ingredients.displayValue\"}\n",
    "        }\n",
    "    },\n",
    "    {\"$sort\": { \"doc_count\":-1}}\n",
    "    ])\n",
    "\n",
    "df_ingredients = pd.DataFrame(columns=['id', 'name', 'occurence'])\n",
    "\n",
    "i = 0;\n",
    "for ingredient in ingredients:\n",
    "    if(ingredient[\"_id\"] != 0):\n",
    "        name = define_ingredient_label(ingredient[\"doc_name\"])\n",
    "        df_ingredients.loc[len(df_ingredients)] = (ingredient[\"_id\"], name, ingredient[\"doc_count\"])\n",
    "    \n",
    "df_ingredients.drop(df_ingredients[df_ingredients['occurence'] < 10].index, inplace = True)"
   ]
  },
  {
   "cell_type": "code",
   "execution_count": 10,
   "metadata": {
    "collapsed": false
   },
   "outputs": [
    {
     "data": {
      "text/html": [
       "<div>\n",
       "<table border=\"1\" class=\"dataframe\">\n",
       "  <thead>\n",
       "    <tr style=\"text-align: right;\">\n",
       "      <th></th>\n",
       "      <th>id</th>\n",
       "      <th>name</th>\n",
       "      <th>occurence</th>\n",
       "    </tr>\n",
       "  </thead>\n",
       "  <tbody>\n",
       "    <tr>\n",
       "      <th>0</th>\n",
       "      <td>16421.0</td>\n",
       "      <td>salt</td>\n",
       "      <td>8730.0</td>\n",
       "    </tr>\n",
       "    <tr>\n",
       "      <th>1</th>\n",
       "      <td>4342.0</td>\n",
       "      <td>garlic</td>\n",
       "      <td>5246.0</td>\n",
       "    </tr>\n",
       "    <tr>\n",
       "      <th>2</th>\n",
       "      <td>4397.0</td>\n",
       "      <td>onion</td>\n",
       "      <td>4947.0</td>\n",
       "    </tr>\n",
       "    <tr>\n",
       "      <th>3</th>\n",
       "      <td>2496.0</td>\n",
       "      <td>water</td>\n",
       "      <td>4583.0</td>\n",
       "    </tr>\n",
       "    <tr>\n",
       "      <th>4</th>\n",
       "      <td>1526.0</td>\n",
       "      <td>sugar</td>\n",
       "      <td>4371.0</td>\n",
       "    </tr>\n",
       "    <tr>\n",
       "      <th>5</th>\n",
       "      <td>16157.0</td>\n",
       "      <td>butter</td>\n",
       "      <td>4036.0</td>\n",
       "    </tr>\n",
       "    <tr>\n",
       "      <th>6</th>\n",
       "      <td>16317.0</td>\n",
       "      <td>egg</td>\n",
       "      <td>3449.0</td>\n",
       "    </tr>\n",
       "    <tr>\n",
       "      <th>7</th>\n",
       "      <td>1684.0</td>\n",
       "      <td>all purpose flour</td>\n",
       "      <td>3215.0</td>\n",
       "    </tr>\n",
       "    <tr>\n",
       "      <th>8</th>\n",
       "      <td>16406.0</td>\n",
       "      <td>pepper</td>\n",
       "      <td>3194.0</td>\n",
       "    </tr>\n",
       "    <tr>\n",
       "      <th>9</th>\n",
       "      <td>6307.0</td>\n",
       "      <td>olive oil</td>\n",
       "      <td>3127.0</td>\n",
       "    </tr>\n",
       "  </tbody>\n",
       "</table>\n",
       "</div>"
      ],
      "text/plain": [
       "        id               name  occurence\n",
       "0  16421.0               salt     8730.0\n",
       "1   4342.0             garlic     5246.0\n",
       "2   4397.0              onion     4947.0\n",
       "3   2496.0              water     4583.0\n",
       "4   1526.0              sugar     4371.0\n",
       "5  16157.0             butter     4036.0\n",
       "6  16317.0                egg     3449.0\n",
       "7   1684.0  all purpose flour     3215.0\n",
       "8  16406.0             pepper     3194.0\n",
       "9   6307.0          olive oil     3127.0"
      ]
     },
     "execution_count": 10,
     "metadata": {},
     "output_type": "execute_result"
    }
   ],
   "source": [
    "df_ingredients.head(10)"
   ]
  },
  {
   "cell_type": "code",
   "execution_count": 11,
   "metadata": {
    "collapsed": false
   },
   "outputs": [
    {
     "data": {
      "text/plain": [
       "1046"
      ]
     },
     "execution_count": 11,
     "metadata": {},
     "output_type": "execute_result"
    }
   ],
   "source": [
    "len(df_ingredients)"
   ]
  },
  {
   "cell_type": "code",
   "execution_count": 12,
   "metadata": {
    "collapsed": false
   },
   "outputs": [
    {
     "data": {
      "text/plain": [
       "861"
      ]
     },
     "execution_count": 12,
     "metadata": {},
     "output_type": "execute_result"
    }
   ],
   "source": [
    "df_ingredients_duplicates = df_ingredients.groupby('name').count()\n",
    "len(df_ingredients_duplicates)"
   ]
  },
  {
   "cell_type": "code",
   "execution_count": 13,
   "metadata": {
    "collapsed": false,
    "scrolled": true
   },
   "outputs": [
    {
     "data": {
      "text/html": [
       "<div>\n",
       "<table border=\"1\" class=\"dataframe\">\n",
       "  <thead>\n",
       "    <tr style=\"text-align: right;\">\n",
       "      <th></th>\n",
       "      <th>id</th>\n",
       "      <th>occurence</th>\n",
       "    </tr>\n",
       "    <tr>\n",
       "      <th>name</th>\n",
       "      <th></th>\n",
       "      <th></th>\n",
       "    </tr>\n",
       "  </thead>\n",
       "  <tbody>\n",
       "    <tr>\n",
       "      <th>cheese</th>\n",
       "      <td>5</td>\n",
       "      <td>5</td>\n",
       "    </tr>\n",
       "    <tr>\n",
       "      <th>chicken</th>\n",
       "      <td>12</td>\n",
       "      <td>12</td>\n",
       "    </tr>\n",
       "    <tr>\n",
       "      <th>chipotle</th>\n",
       "      <td>3</td>\n",
       "      <td>3</td>\n",
       "    </tr>\n",
       "    <tr>\n",
       "      <th>coconut</th>\n",
       "      <td>3</td>\n",
       "      <td>3</td>\n",
       "    </tr>\n",
       "    <tr>\n",
       "      <th>corn</th>\n",
       "      <td>4</td>\n",
       "      <td>4</td>\n",
       "    </tr>\n",
       "    <tr>\n",
       "      <th>crabmeat</th>\n",
       "      <td>3</td>\n",
       "      <td>3</td>\n",
       "    </tr>\n",
       "    <tr>\n",
       "      <th>cucumber</th>\n",
       "      <td>3</td>\n",
       "      <td>3</td>\n",
       "    </tr>\n",
       "    <tr>\n",
       "      <th>cup rice</th>\n",
       "      <td>6</td>\n",
       "      <td>6</td>\n",
       "    </tr>\n",
       "    <tr>\n",
       "      <th>flour tortilla</th>\n",
       "      <td>3</td>\n",
       "      <td>3</td>\n",
       "    </tr>\n",
       "    <tr>\n",
       "      <th>ginger</th>\n",
       "      <td>3</td>\n",
       "      <td>3</td>\n",
       "    </tr>\n",
       "  </tbody>\n",
       "</table>\n",
       "</div>"
      ],
      "text/plain": [
       "                id  occurence\n",
       "name                         \n",
       "cheese           5          5\n",
       "chicken         12         12\n",
       "chipotle         3          3\n",
       "coconut          3          3\n",
       "corn             4          4\n",
       "crabmeat         3          3\n",
       "cucumber         3          3\n",
       "cup rice         6          6\n",
       "flour tortilla   3          3\n",
       "ginger           3          3"
      ]
     },
     "execution_count": 13,
     "metadata": {},
     "output_type": "execute_result"
    }
   ],
   "source": [
    "df_ingredients_duplicates = df_ingredients_duplicates[df_ingredients_duplicates['occurence'] > 2]\n",
    "df_ingredients_duplicates.head(10)"
   ]
  },
  {
   "cell_type": "code",
   "execution_count": 14,
   "metadata": {
    "collapsed": false
   },
   "outputs": [
    {
     "data": {
      "text/plain": [
       "37"
      ]
     },
     "execution_count": 14,
     "metadata": {},
     "output_type": "execute_result"
    }
   ],
   "source": [
    "len(df_ingredients_duplicates)"
   ]
  },
  {
   "cell_type": "markdown",
   "metadata": {},
   "source": [
    "## Find ingredient type"
   ]
  },
  {
   "cell_type": "code",
   "execution_count": 15,
   "metadata": {
    "collapsed": false
   },
   "outputs": [],
   "source": [
    "df_ingredients['type'] = 'None'"
   ]
  },
  {
   "cell_type": "code",
   "execution_count": 16,
   "metadata": {
    "collapsed": true
   },
   "outputs": [],
   "source": [
    "def find_ingredient_ids(df, name):\n",
    "    found_ingredients = []\n",
    "    ids = []\n",
    "    for ingredient in df['name']:\n",
    "        if ingredient.find(name) != -1:\n",
    "            found_ingredients.append(ingredient)\n",
    "    \n",
    "    for value in df[df['name'].isin(found_ingredients)][\"id\"].values:\n",
    "        ids.append(value)\n",
    "    return ids"
   ]
  },
  {
   "cell_type": "code",
   "execution_count": 17,
   "metadata": {
    "collapsed": true
   },
   "outputs": [],
   "source": [
    "def fill_ingredient_type(df, type_name, ingredient_names):\n",
    "    ids = []\n",
    "    for ingredient in ingredient_names:\n",
    "        ids = ids + find_ingredient_ids(df, ingredient)\n",
    "    \n",
    "    df.loc[df['id'].isin(ids),'type'] = type_name\n",
    "    return"
   ]
  },
  {
   "cell_type": "markdown",
   "metadata": {},
   "source": [
    "#### Meat"
   ]
  },
  {
   "cell_type": "code",
   "execution_count": 18,
   "metadata": {
    "collapsed": true
   },
   "outputs": [],
   "source": [
    "meat_names = ['chicken', 'turkey', 'beef', 'pork', 'veal', 'lamb', 'bacon', 'sausage', 'ham',\n",
    "             'prosciutto', 'steak', 'dog', 'chorizo', 'lard', 'salami', 'pancetta']\n",
    "fill_ingredient_type(df_ingredients, 'meat', meat_names)"
   ]
  },
  {
   "cell_type": "markdown",
   "metadata": {},
   "source": [
    "#### Fish"
   ]
  },
  {
   "cell_type": "code",
   "execution_count": 19,
   "metadata": {
    "collapsed": true
   },
   "outputs": [],
   "source": [
    "fish_names = ['fish', 'cod', 'salmon', 'swordfish', 'shrimp', 'sea', 'crabmeat', 'anchovy', \n",
    "              'clam', 'tuna', 'prawn']\n",
    "fill_ingredient_type(df_ingredients, 'fish and seafood', fish_names)"
   ]
  },
  {
   "cell_type": "markdown",
   "metadata": {},
   "source": [
    "#### Egg"
   ]
  },
  {
   "cell_type": "code",
   "execution_count": 20,
   "metadata": {
    "collapsed": true
   },
   "outputs": [],
   "source": [
    "egg_names = ['egg']\n",
    "fill_ingredient_type(df_ingredients, 'egg', egg_names)"
   ]
  },
  {
   "cell_type": "markdown",
   "metadata": {},
   "source": [
    "#### Dairy"
   ]
  },
  {
   "cell_type": "code",
   "execution_count": 21,
   "metadata": {
    "collapsed": true
   },
   "outputs": [],
   "source": [
    "dairy_names = ['milk', 'cream', 'cheese', 'yogurt', 'butter', 'margarine', 'mozzarella', 'queso']\n",
    "fill_ingredient_type(df_ingredients, 'dairy', dairy_names)"
   ]
  },
  {
   "cell_type": "markdown",
   "metadata": {},
   "source": [
    "#### Vegetables"
   ]
  },
  {
   "cell_type": "code",
   "execution_count": 22,
   "metadata": {
    "collapsed": true
   },
   "outputs": [],
   "source": [
    "vegetables_names = ['garlic', 'onion', 'carrot', 'tomato', 'celery', 'mushroom', 'zucchini',\n",
    "                    'olive', 'cabbage', 'spinach', 'cucumber', 'lettuce', 'broccoli', 'vegetable',\n",
    "                    'pepper', 'pea', 'caper', 'asparagus', 'cauliflower', 'chipotle', 'chestnut',\n",
    "                    'artichoke', 'shallot', 'leek', 'pickle', 'chile', 'choy', 'kale', 'pumpkin',\n",
    "                    'squash', 'radish', 'salad']\n",
    "fill_ingredient_type(df_ingredients, 'vegetables', vegetables_names)"
   ]
  },
  {
   "cell_type": "markdown",
   "metadata": {},
   "source": [
    "#### Fruit"
   ]
  },
  {
   "cell_type": "code",
   "execution_count": 23,
   "metadata": {
    "collapsed": true
   },
   "outputs": [],
   "source": [
    "fruit_names = ['lemon', 'lime', 'avocado', 'raisin', 'orange', 'apple', 'banana', 'mango',\n",
    "               'coconut', 'sherry', 'strawberry', 'pineapple', 'blueberry', 'papaya', 'fig',\n",
    "               'cherry', 'date', 'cranberry', 'raspberry', 'prune', 'apricot', 'blackberry',\n",
    "               'guacamole']\n",
    "fill_ingredient_type(df_ingredients, 'fruit', fruit_names)"
   ]
  },
  {
   "cell_type": "markdown",
   "metadata": {},
   "source": [
    "#### Starchy"
   ]
  },
  {
   "cell_type": "code",
   "execution_count": 24,
   "metadata": {
    "collapsed": true
   },
   "outputs": [],
   "source": [
    "starchy_names = ['potato', 'rice', 'bread', 'cornstarch', 'corn', 'walnut', 'almond', 'bean',\n",
    "                 'flour', 'sesame', 'pecan', 'polenta', 'noodle', 'lentil', 'spaghetti', 'pasta',\n",
    "                 'macaroni', 'tortilla', 'tofu', 'linguine', 'oat', 'paste', 'seed', 'cashew',\n",
    "                 'ravioli', 'gnocchi', 'crust', 'nut', 'baguette', 'quinoa', 'couscous']\n",
    "fill_ingredient_type(df_ingredients, 'starchy', starchy_names)"
   ]
  },
  {
   "cell_type": "markdown",
   "metadata": {},
   "source": [
    "#### Condiment"
   ]
  },
  {
   "cell_type": "code",
   "execution_count": 25,
   "metadata": {
    "collapsed": true
   },
   "outputs": [],
   "source": [
    "condiment_names = ['salt', 'oil', 'soy sauce', 'vinegar', 'mayonnaise', 'ketchup', 'mustard',\n",
    "                   'sauce', 'salsa', 'seasoning', 'mix']\n",
    "fill_ingredient_type(df_ingredients, 'condiment', condiment_names)"
   ]
  },
  {
   "cell_type": "markdown",
   "metadata": {},
   "source": [
    "#### Spicies"
   ]
  },
  {
   "cell_type": "code",
   "execution_count": 26,
   "metadata": {
    "collapsed": true
   },
   "outputs": [],
   "source": [
    "spicies_names = ['curry', 'cinnamon', 'cumin', 'ginger', 'vanilla', 'paprika', 'powder', 'nutmeg',\n",
    "                'cocoa', 'allspice', 'masala', 'clove', 'cardamom', 'turmeric', 'saffron']\n",
    "fill_ingredient_type(df_ingredients, 'spicies', spicies_names)"
   ]
  },
  {
   "cell_type": "markdown",
   "metadata": {},
   "source": [
    "#### Herbs"
   ]
  },
  {
   "cell_type": "code",
   "execution_count": 27,
   "metadata": {
    "collapsed": true
   },
   "outputs": [],
   "source": [
    "herbs_names = ['cilantro', 'basil','parsley', 'oregano', 'mint', 'thyme', 'coriander', 'rosemary',\n",
    "              'leaf', 'chive', 'sage']\n",
    "fill_ingredient_type(df_ingredients, 'herbs', herbs_names)"
   ]
  },
  {
   "cell_type": "markdown",
   "metadata": {},
   "source": [
    "#### Sugared Integredient"
   ]
  },
  {
   "cell_type": "code",
   "execution_count": 28,
   "metadata": {
    "collapsed": true
   },
   "outputs": [],
   "source": [
    "sugared_names = ['sugar', 'honey', 'maple syrup', 'chocolate']\n",
    "fill_ingredient_type(df_ingredients, 'sugared', sugared_names)"
   ]
  },
  {
   "cell_type": "markdown",
   "metadata": {},
   "source": [
    "#### Alcohol"
   ]
  },
  {
   "cell_type": "code",
   "execution_count": 29,
   "metadata": {
    "collapsed": true
   },
   "outputs": [],
   "source": [
    "alcohol_names = ['wine', 'liqueur', 'pisco', 'beer', 'tequila', 'rum', 'brandy', 'triple sec',\n",
    "                 'vodka', 'sake', 'whiskey', 'bourbon']\n",
    "fill_ingredient_type(df_ingredients, 'alcohol', alcohol_names)"
   ]
  },
  {
   "cell_type": "code",
   "execution_count": 30,
   "metadata": {
    "collapsed": false
   },
   "outputs": [
    {
     "data": {
      "text/plain": [
       "199"
      ]
     },
     "execution_count": 30,
     "metadata": {},
     "output_type": "execute_result"
    }
   ],
   "source": [
    "len(df_ingredients[df_ingredients['type'] == 'None'])"
   ]
  },
  {
   "cell_type": "code",
   "execution_count": 31,
   "metadata": {
    "collapsed": false,
    "scrolled": true
   },
   "outputs": [
    {
     "data": {
      "text/plain": [
       "1046"
      ]
     },
     "execution_count": 31,
     "metadata": {},
     "output_type": "execute_result"
    }
   ],
   "source": [
    "len(df_ingredients)"
   ]
  },
  {
   "cell_type": "code",
   "execution_count": 32,
   "metadata": {
    "collapsed": false
   },
   "outputs": [
    {
     "data": {
      "text/html": [
       "<div>\n",
       "<table border=\"1\" class=\"dataframe\">\n",
       "  <thead>\n",
       "    <tr style=\"text-align: right;\">\n",
       "      <th></th>\n",
       "      <th>id</th>\n",
       "      <th>name</th>\n",
       "      <th>occurence</th>\n",
       "      <th>type</th>\n",
       "    </tr>\n",
       "  </thead>\n",
       "  <tbody>\n",
       "    <tr>\n",
       "      <th>0</th>\n",
       "      <td>16421.0</td>\n",
       "      <td>salt</td>\n",
       "      <td>8730.0</td>\n",
       "      <td>condiment</td>\n",
       "    </tr>\n",
       "    <tr>\n",
       "      <th>1</th>\n",
       "      <td>4342.0</td>\n",
       "      <td>garlic</td>\n",
       "      <td>5246.0</td>\n",
       "      <td>vegetables</td>\n",
       "    </tr>\n",
       "    <tr>\n",
       "      <th>2</th>\n",
       "      <td>4397.0</td>\n",
       "      <td>onion</td>\n",
       "      <td>4947.0</td>\n",
       "      <td>vegetables</td>\n",
       "    </tr>\n",
       "    <tr>\n",
       "      <th>3</th>\n",
       "      <td>2496.0</td>\n",
       "      <td>water</td>\n",
       "      <td>4583.0</td>\n",
       "      <td>None</td>\n",
       "    </tr>\n",
       "    <tr>\n",
       "      <th>4</th>\n",
       "      <td>1526.0</td>\n",
       "      <td>sugar</td>\n",
       "      <td>4371.0</td>\n",
       "      <td>sugared</td>\n",
       "    </tr>\n",
       "    <tr>\n",
       "      <th>5</th>\n",
       "      <td>16157.0</td>\n",
       "      <td>butter</td>\n",
       "      <td>4036.0</td>\n",
       "      <td>dairy</td>\n",
       "    </tr>\n",
       "    <tr>\n",
       "      <th>6</th>\n",
       "      <td>16317.0</td>\n",
       "      <td>egg</td>\n",
       "      <td>3449.0</td>\n",
       "      <td>egg</td>\n",
       "    </tr>\n",
       "    <tr>\n",
       "      <th>7</th>\n",
       "      <td>1684.0</td>\n",
       "      <td>all purpose flour</td>\n",
       "      <td>3215.0</td>\n",
       "      <td>starchy</td>\n",
       "    </tr>\n",
       "    <tr>\n",
       "      <th>8</th>\n",
       "      <td>16406.0</td>\n",
       "      <td>pepper</td>\n",
       "      <td>3194.0</td>\n",
       "      <td>vegetables</td>\n",
       "    </tr>\n",
       "    <tr>\n",
       "      <th>9</th>\n",
       "      <td>6307.0</td>\n",
       "      <td>olive oil</td>\n",
       "      <td>3127.0</td>\n",
       "      <td>condiment</td>\n",
       "    </tr>\n",
       "  </tbody>\n",
       "</table>\n",
       "</div>"
      ],
      "text/plain": [
       "        id               name  occurence        type\n",
       "0  16421.0               salt     8730.0   condiment\n",
       "1   4342.0             garlic     5246.0  vegetables\n",
       "2   4397.0              onion     4947.0  vegetables\n",
       "3   2496.0              water     4583.0        None\n",
       "4   1526.0              sugar     4371.0     sugared\n",
       "5  16157.0             butter     4036.0       dairy\n",
       "6  16317.0                egg     3449.0         egg\n",
       "7   1684.0  all purpose flour     3215.0     starchy\n",
       "8  16406.0             pepper     3194.0  vegetables\n",
       "9   6307.0          olive oil     3127.0   condiment"
      ]
     },
     "execution_count": 32,
     "metadata": {},
     "output_type": "execute_result"
    }
   ],
   "source": [
    "df_ingredients.head(10)"
   ]
  },
  {
   "cell_type": "markdown",
   "metadata": {},
   "source": [
    "# Counting number of recipes per country"
   ]
  },
  {
   "cell_type": "code",
   "execution_count": 33,
   "metadata": {
    "collapsed": true
   },
   "outputs": [],
   "source": [
    "def initialize_dataFrame_countries(json_name):\n",
    "    with open(json_name) as data_file:\n",
    "        agg_data = json.load(data_file)\n",
    "    \n",
    "    df_countries = pd.DataFrame(columns=['geo_identifier', 'geo_name', 'database_name', 'nbRecipes'])\n",
    "    \n",
    "    for country in agg_data[\"per_country\"]:\n",
    "        df_countries.loc[len(df_countries)] = pd.Series([country[\"geo_identifier\"], country[\"geo_name\"], country[\"database_name\"], country[\"nbRecipes\"]], \n",
    "               index=['geo_identifier', 'geo_name', 'database_name', 'nbRecipes'])\n",
    "  \n",
    "    return df_countries.sort_values(by='geo_identifier', ascending=True)"
   ]
  },
  {
   "cell_type": "code",
   "execution_count": 34,
   "metadata": {
    "collapsed": false
   },
   "outputs": [
    {
     "data": {
      "text/html": [
       "<div>\n",
       "<table border=\"1\" class=\"dataframe\">\n",
       "  <thead>\n",
       "    <tr style=\"text-align: right;\">\n",
       "      <th></th>\n",
       "      <th>geo_identifier</th>\n",
       "      <th>geo_name</th>\n",
       "      <th>database_name</th>\n",
       "      <th>nbRecipes</th>\n",
       "    </tr>\n",
       "  </thead>\n",
       "  <tbody>\n",
       "    <tr>\n",
       "      <th>45</th>\n",
       "      <td>ARG</td>\n",
       "      <td>Argentina</td>\n",
       "      <td>argentinian</td>\n",
       "      <td>23.0</td>\n",
       "    </tr>\n",
       "    <tr>\n",
       "      <th>10</th>\n",
       "      <td>AUT</td>\n",
       "      <td>Austria</td>\n",
       "      <td>austrian</td>\n",
       "      <td>30.0</td>\n",
       "    </tr>\n",
       "    <tr>\n",
       "      <th>24</th>\n",
       "      <td>BEL</td>\n",
       "      <td>Belgium</td>\n",
       "      <td>belgian</td>\n",
       "      <td>15.0</td>\n",
       "    </tr>\n",
       "    <tr>\n",
       "      <th>22</th>\n",
       "      <td>BGD</td>\n",
       "      <td>Bangladesh</td>\n",
       "      <td>bangladeshi</td>\n",
       "      <td>14.0</td>\n",
       "    </tr>\n",
       "    <tr>\n",
       "      <th>0</th>\n",
       "      <td>BRA</td>\n",
       "      <td>Brazil</td>\n",
       "      <td>brazilian</td>\n",
       "      <td>88.0</td>\n",
       "    </tr>\n",
       "    <tr>\n",
       "      <th>31</th>\n",
       "      <td>CAN</td>\n",
       "      <td>Canada</td>\n",
       "      <td>canadian</td>\n",
       "      <td>1167.0</td>\n",
       "    </tr>\n",
       "    <tr>\n",
       "      <th>8</th>\n",
       "      <td>CHE</td>\n",
       "      <td>Switzerland</td>\n",
       "      <td>swiss</td>\n",
       "      <td>29.0</td>\n",
       "    </tr>\n",
       "    <tr>\n",
       "      <th>9</th>\n",
       "      <td>CHL</td>\n",
       "      <td>Chile</td>\n",
       "      <td>chilean</td>\n",
       "      <td>32.0</td>\n",
       "    </tr>\n",
       "    <tr>\n",
       "      <th>15</th>\n",
       "      <td>CHN</td>\n",
       "      <td>China</td>\n",
       "      <td>chinese</td>\n",
       "      <td>247.0</td>\n",
       "    </tr>\n",
       "    <tr>\n",
       "      <th>47</th>\n",
       "      <td>COL</td>\n",
       "      <td>Colombia</td>\n",
       "      <td>colombian</td>\n",
       "      <td>13.0</td>\n",
       "    </tr>\n",
       "    <tr>\n",
       "      <th>21</th>\n",
       "      <td>CUB</td>\n",
       "      <td>Cuba</td>\n",
       "      <td>cuban</td>\n",
       "      <td>79.0</td>\n",
       "    </tr>\n",
       "    <tr>\n",
       "      <th>25</th>\n",
       "      <td>CZE</td>\n",
       "      <td>Czech Republic</td>\n",
       "      <td>czech</td>\n",
       "      <td>26.0</td>\n",
       "    </tr>\n",
       "    <tr>\n",
       "      <th>30</th>\n",
       "      <td>DEU</td>\n",
       "      <td>Germany</td>\n",
       "      <td>german</td>\n",
       "      <td>319.0</td>\n",
       "    </tr>\n",
       "    <tr>\n",
       "      <th>42</th>\n",
       "      <td>DOM</td>\n",
       "      <td>Puerto Rico</td>\n",
       "      <td>puerto-rican</td>\n",
       "      <td>54.0</td>\n",
       "    </tr>\n",
       "    <tr>\n",
       "      <th>1</th>\n",
       "      <td>EGY</td>\n",
       "      <td>Egypt</td>\n",
       "      <td>egyptian</td>\n",
       "      <td>27.0</td>\n",
       "    </tr>\n",
       "    <tr>\n",
       "      <th>51</th>\n",
       "      <td>ESP</td>\n",
       "      <td>Spain</td>\n",
       "      <td>spanish</td>\n",
       "      <td>131.0</td>\n",
       "    </tr>\n",
       "    <tr>\n",
       "      <th>29</th>\n",
       "      <td>FIN</td>\n",
       "      <td>Finland</td>\n",
       "      <td>finnish</td>\n",
       "      <td>18.0</td>\n",
       "    </tr>\n",
       "    <tr>\n",
       "      <th>38</th>\n",
       "      <td>FRA</td>\n",
       "      <td>France</td>\n",
       "      <td>french</td>\n",
       "      <td>449.0</td>\n",
       "    </tr>\n",
       "    <tr>\n",
       "      <th>39</th>\n",
       "      <td>GBR</td>\n",
       "      <td>Wales</td>\n",
       "      <td>welsh</td>\n",
       "      <td>19.0</td>\n",
       "    </tr>\n",
       "    <tr>\n",
       "      <th>35</th>\n",
       "      <td>GBR</td>\n",
       "      <td>United Kingdom</td>\n",
       "      <td>english</td>\n",
       "      <td>157.0</td>\n",
       "    </tr>\n",
       "    <tr>\n",
       "      <th>40</th>\n",
       "      <td>GBR</td>\n",
       "      <td>Scotland</td>\n",
       "      <td>scottish</td>\n",
       "      <td>51.0</td>\n",
       "    </tr>\n",
       "    <tr>\n",
       "      <th>3</th>\n",
       "      <td>GRC</td>\n",
       "      <td>Greece</td>\n",
       "      <td>greek</td>\n",
       "      <td>388.0</td>\n",
       "    </tr>\n",
       "    <tr>\n",
       "      <th>16</th>\n",
       "      <td>GRL</td>\n",
       "      <td>Denmark</td>\n",
       "      <td>danish</td>\n",
       "      <td>27.0</td>\n",
       "    </tr>\n",
       "    <tr>\n",
       "      <th>33</th>\n",
       "      <td>HUN</td>\n",
       "      <td>Hungary</td>\n",
       "      <td>hungarian</td>\n",
       "      <td>48.0</td>\n",
       "    </tr>\n",
       "    <tr>\n",
       "      <th>34</th>\n",
       "      <td>IDN</td>\n",
       "      <td>Indonesia</td>\n",
       "      <td>indonesian</td>\n",
       "      <td>32.0</td>\n",
       "    </tr>\n",
       "    <tr>\n",
       "      <th>17</th>\n",
       "      <td>IND</td>\n",
       "      <td>India</td>\n",
       "      <td>indian</td>\n",
       "      <td>660.0</td>\n",
       "    </tr>\n",
       "    <tr>\n",
       "      <th>27</th>\n",
       "      <td>IRL</td>\n",
       "      <td>Ireland</td>\n",
       "      <td>irish</td>\n",
       "      <td>203.0</td>\n",
       "    </tr>\n",
       "    <tr>\n",
       "      <th>41</th>\n",
       "      <td>ISR</td>\n",
       "      <td>Israel</td>\n",
       "      <td>israeli</td>\n",
       "      <td>24.0</td>\n",
       "    </tr>\n",
       "    <tr>\n",
       "      <th>6</th>\n",
       "      <td>ITA</td>\n",
       "      <td>Italy</td>\n",
       "      <td>italian</td>\n",
       "      <td>2334.0</td>\n",
       "    </tr>\n",
       "    <tr>\n",
       "      <th>18</th>\n",
       "      <td>JAM</td>\n",
       "      <td>Jamaica</td>\n",
       "      <td>jamaican</td>\n",
       "      <td>48.0</td>\n",
       "    </tr>\n",
       "    <tr>\n",
       "      <th>23</th>\n",
       "      <td>JPN</td>\n",
       "      <td>Japan</td>\n",
       "      <td>japanese</td>\n",
       "      <td>213.0</td>\n",
       "    </tr>\n",
       "    <tr>\n",
       "      <th>20</th>\n",
       "      <td>KOR</td>\n",
       "      <td>South Korea</td>\n",
       "      <td>korean</td>\n",
       "      <td>112.0</td>\n",
       "    </tr>\n",
       "    <tr>\n",
       "      <th>5</th>\n",
       "      <td>LBN</td>\n",
       "      <td>Lebanon</td>\n",
       "      <td>lebanese</td>\n",
       "      <td>55.0</td>\n",
       "    </tr>\n",
       "    <tr>\n",
       "      <th>37</th>\n",
       "      <td>MAR</td>\n",
       "      <td>Morocco</td>\n",
       "      <td>moroccan</td>\n",
       "      <td>47.0</td>\n",
       "    </tr>\n",
       "    <tr>\n",
       "      <th>26</th>\n",
       "      <td>MEX</td>\n",
       "      <td>Mexico</td>\n",
       "      <td>mexican</td>\n",
       "      <td>2200.0</td>\n",
       "    </tr>\n",
       "    <tr>\n",
       "      <th>11</th>\n",
       "      <td>MYS</td>\n",
       "      <td>Malaysia</td>\n",
       "      <td>malaysian</td>\n",
       "      <td>36.0</td>\n",
       "    </tr>\n",
       "    <tr>\n",
       "      <th>46</th>\n",
       "      <td>NLD</td>\n",
       "      <td>Netherlands</td>\n",
       "      <td>dutch</td>\n",
       "      <td>38.0</td>\n",
       "    </tr>\n",
       "    <tr>\n",
       "      <th>36</th>\n",
       "      <td>NOR</td>\n",
       "      <td>Norway</td>\n",
       "      <td>norwegian</td>\n",
       "      <td>32.0</td>\n",
       "    </tr>\n",
       "    <tr>\n",
       "      <th>43</th>\n",
       "      <td>NZL</td>\n",
       "      <td>New Zealand</td>\n",
       "      <td>australian-and-new-zealander</td>\n",
       "      <td>548.0</td>\n",
       "    </tr>\n",
       "    <tr>\n",
       "      <th>28</th>\n",
       "      <td>PAK</td>\n",
       "      <td>Pakistan</td>\n",
       "      <td>pakistani</td>\n",
       "      <td>31.0</td>\n",
       "    </tr>\n",
       "    <tr>\n",
       "      <th>14</th>\n",
       "      <td>PER</td>\n",
       "      <td>Peru</td>\n",
       "      <td>peruvian</td>\n",
       "      <td>45.0</td>\n",
       "    </tr>\n",
       "    <tr>\n",
       "      <th>2</th>\n",
       "      <td>PHL</td>\n",
       "      <td>Philippines</td>\n",
       "      <td>filipino</td>\n",
       "      <td>137.0</td>\n",
       "    </tr>\n",
       "    <tr>\n",
       "      <th>44</th>\n",
       "      <td>POL</td>\n",
       "      <td>Poland</td>\n",
       "      <td>polish</td>\n",
       "      <td>124.0</td>\n",
       "    </tr>\n",
       "    <tr>\n",
       "      <th>49</th>\n",
       "      <td>PRT</td>\n",
       "      <td>Portugal</td>\n",
       "      <td>portuguese</td>\n",
       "      <td>71.0</td>\n",
       "    </tr>\n",
       "    <tr>\n",
       "      <th>32</th>\n",
       "      <td>RUS</td>\n",
       "      <td>Russia</td>\n",
       "      <td>russian</td>\n",
       "      <td>94.0</td>\n",
       "    </tr>\n",
       "    <tr>\n",
       "      <th>52</th>\n",
       "      <td>SWE</td>\n",
       "      <td>Sweden</td>\n",
       "      <td>swedish</td>\n",
       "      <td>107.0</td>\n",
       "    </tr>\n",
       "    <tr>\n",
       "      <th>48</th>\n",
       "      <td>THA</td>\n",
       "      <td>Thailand</td>\n",
       "      <td>thai</td>\n",
       "      <td>239.0</td>\n",
       "    </tr>\n",
       "    <tr>\n",
       "      <th>4</th>\n",
       "      <td>TUR</td>\n",
       "      <td>Turkey</td>\n",
       "      <td>turkey</td>\n",
       "      <td>41.0</td>\n",
       "    </tr>\n",
       "    <tr>\n",
       "      <th>19</th>\n",
       "      <td>TUR</td>\n",
       "      <td>Turkey</td>\n",
       "      <td>turkish</td>\n",
       "      <td>36.0</td>\n",
       "    </tr>\n",
       "    <tr>\n",
       "      <th>7</th>\n",
       "      <td>USA</td>\n",
       "      <td>United States of America</td>\n",
       "      <td>us-recipes</td>\n",
       "      <td>4472.0</td>\n",
       "    </tr>\n",
       "    <tr>\n",
       "      <th>13</th>\n",
       "      <td>VNM</td>\n",
       "      <td>Vietnam</td>\n",
       "      <td>vietnamese</td>\n",
       "      <td>65.0</td>\n",
       "    </tr>\n",
       "    <tr>\n",
       "      <th>50</th>\n",
       "      <td>ZAF</td>\n",
       "      <td>South Africa</td>\n",
       "      <td>south-african</td>\n",
       "      <td>27.0</td>\n",
       "    </tr>\n",
       "  </tbody>\n",
       "</table>\n",
       "</div>"
      ],
      "text/plain": [
       "   geo_identifier                  geo_name                 database_name  \\\n",
       "45            ARG                 Argentina                   argentinian   \n",
       "10            AUT                   Austria                      austrian   \n",
       "24            BEL                   Belgium                       belgian   \n",
       "22            BGD                Bangladesh                   bangladeshi   \n",
       "0             BRA                    Brazil                     brazilian   \n",
       "31            CAN                    Canada                      canadian   \n",
       "8             CHE               Switzerland                         swiss   \n",
       "9             CHL                     Chile                       chilean   \n",
       "15            CHN                     China                       chinese   \n",
       "47            COL                  Colombia                     colombian   \n",
       "21            CUB                      Cuba                         cuban   \n",
       "25            CZE            Czech Republic                         czech   \n",
       "30            DEU                   Germany                        german   \n",
       "42            DOM               Puerto Rico                  puerto-rican   \n",
       "1             EGY                     Egypt                      egyptian   \n",
       "51            ESP                     Spain                       spanish   \n",
       "29            FIN                   Finland                       finnish   \n",
       "38            FRA                    France                        french   \n",
       "39            GBR                     Wales                         welsh   \n",
       "35            GBR            United Kingdom                       english   \n",
       "40            GBR                  Scotland                      scottish   \n",
       "3             GRC                    Greece                         greek   \n",
       "16            GRL                   Denmark                        danish   \n",
       "33            HUN                   Hungary                     hungarian   \n",
       "34            IDN                 Indonesia                    indonesian   \n",
       "17            IND                     India                        indian   \n",
       "27            IRL                   Ireland                         irish   \n",
       "41            ISR                    Israel                       israeli   \n",
       "6             ITA                     Italy                       italian   \n",
       "18            JAM                   Jamaica                      jamaican   \n",
       "23            JPN                     Japan                      japanese   \n",
       "20            KOR               South Korea                        korean   \n",
       "5             LBN                   Lebanon                      lebanese   \n",
       "37            MAR                   Morocco                      moroccan   \n",
       "26            MEX                    Mexico                       mexican   \n",
       "11            MYS                  Malaysia                     malaysian   \n",
       "46            NLD               Netherlands                         dutch   \n",
       "36            NOR                    Norway                     norwegian   \n",
       "43            NZL               New Zealand  australian-and-new-zealander   \n",
       "28            PAK                  Pakistan                     pakistani   \n",
       "14            PER                      Peru                      peruvian   \n",
       "2             PHL               Philippines                      filipino   \n",
       "44            POL                    Poland                        polish   \n",
       "49            PRT                  Portugal                    portuguese   \n",
       "32            RUS                    Russia                       russian   \n",
       "52            SWE                    Sweden                       swedish   \n",
       "48            THA                  Thailand                          thai   \n",
       "4             TUR                    Turkey                        turkey   \n",
       "19            TUR                    Turkey                       turkish   \n",
       "7             USA  United States of America                    us-recipes   \n",
       "13            VNM                   Vietnam                    vietnamese   \n",
       "50            ZAF              South Africa                 south-african   \n",
       "\n",
       "    nbRecipes  \n",
       "45       23.0  \n",
       "10       30.0  \n",
       "24       15.0  \n",
       "22       14.0  \n",
       "0        88.0  \n",
       "31     1167.0  \n",
       "8        29.0  \n",
       "9        32.0  \n",
       "15      247.0  \n",
       "47       13.0  \n",
       "21       79.0  \n",
       "25       26.0  \n",
       "30      319.0  \n",
       "42       54.0  \n",
       "1        27.0  \n",
       "51      131.0  \n",
       "29       18.0  \n",
       "38      449.0  \n",
       "39       19.0  \n",
       "35      157.0  \n",
       "40       51.0  \n",
       "3       388.0  \n",
       "16       27.0  \n",
       "33       48.0  \n",
       "34       32.0  \n",
       "17      660.0  \n",
       "27      203.0  \n",
       "41       24.0  \n",
       "6      2334.0  \n",
       "18       48.0  \n",
       "23      213.0  \n",
       "20      112.0  \n",
       "5        55.0  \n",
       "37       47.0  \n",
       "26     2200.0  \n",
       "11       36.0  \n",
       "46       38.0  \n",
       "36       32.0  \n",
       "43      548.0  \n",
       "28       31.0  \n",
       "14       45.0  \n",
       "2       137.0  \n",
       "44      124.0  \n",
       "49       71.0  \n",
       "32       94.0  \n",
       "52      107.0  \n",
       "48      239.0  \n",
       "4        41.0  \n",
       "19       36.0  \n",
       "7      4472.0  \n",
       "13       65.0  \n",
       "50       27.0  "
      ]
     },
     "execution_count": 34,
     "metadata": {},
     "output_type": "execute_result"
    }
   ],
   "source": [
    "df_countries = initialize_dataFrame_countries('fullAggregatedData.json')\n",
    "\n",
    "df_countries = df_countries[df_countries['database_name'] != 'chili']\n",
    "if(len(df_countries[df_countries[\"geo_identifier\"] == 'invalid']) != 0):\n",
    "    ISR_index = df_countries[df_countries[\"geo_identifier\"] == 'invalid'].index.values[0]\n",
    "    df_countries.set_value(ISR_index, 'geo_identifier', 'ISR')\n",
    "    df_countries.set_value(ISR_index, 'geo_name', 'Israel')\n",
    "    df_countries.sort_values(by='geo_identifier', ascending=True)"
   ]
  },
  {
   "cell_type": "markdown",
   "metadata": {},
   "source": [
    "# Fill Countries DataFrames"
   ]
  },
  {
   "cell_type": "code",
   "execution_count": 36,
   "metadata": {
    "collapsed": true
   },
   "outputs": [],
   "source": [
    "def request_recipes_by_ingredient(ingredient_ids):\n",
    "    recipes = collection.find(\n",
    "    {\"ingredients\":{\n",
    "            \"$elemMatch\": {\n",
    "                \"ingredientID\": {\"$in\":ingredient_ids}\n",
    "            }\n",
    "        }}, \n",
    "    )\n",
    "    return recipes"
   ]
  },
  {
   "cell_type": "code",
   "execution_count": 37,
   "metadata": {
    "collapsed": true
   },
   "outputs": [],
   "source": [
    "def fill_dataFrame_countries_ingredient_by_ids(df, ingredient_ids, column_label):\n",
    "    recipes = request_recipes_by_ingredient(ingredient_ids)\n",
    "    \n",
    "    df[column_label] = 0\n",
    "    \n",
    "    for recipe in recipes:\n",
    "        for country in recipe[\"ada-country\"]:\n",
    "\n",
    "            country_index = \"Unfound\"\n",
    "\n",
    "            found_row = df[df['database_name'] == country]\n",
    "            if(len(found_row) != 0):\n",
    "                country_index = found_row.index.values[0]\n",
    "\n",
    "            else:\n",
    "                found_row = df[df['geo_name'] == country]\n",
    "                if(len(found_row) != 0):\n",
    "                    country_index = found_row.index.values[0]\n",
    "\n",
    "            if(country_index != \"Unfound\"):\n",
    "                df.set_value(country_index,\n",
    "                             column_label,\n",
    "                             df.get_value(country_index, column_label) + 1)\n",
    "    \n",
    "    df[column_label] = df[column_label]/df['nbRecipes']\n",
    "    return "
   ]
  },
  {
   "cell_type": "markdown",
   "metadata": {},
   "source": [
    "## Countries and food types"
   ]
  },
  {
   "cell_type": "code",
   "execution_count": 38,
   "metadata": {
    "collapsed": true
   },
   "outputs": [],
   "source": [
    "def find_type_ids(df, type_name):\n",
    "    type_ids = []\n",
    "    for idx in df[df['type'] == type_name]['id']:\n",
    "        type_ids.append(idx)\n",
    "    \n",
    "    return type_ids"
   ]
  },
  {
   "cell_type": "code",
   "execution_count": 39,
   "metadata": {
    "collapsed": true
   },
   "outputs": [],
   "source": [
    "def fill_dataFrame_countries_ingredient_type(df, df_ingredients, type_name):\n",
    "    type_ids = find_type_ids(df_ingredients, type_name)\n",
    "    print(type_ids)\n",
    "    if len(type_ids) != 0:\n",
    "        fill_dataFrame_countries_ingredient_by_ids(df, type_ids, type_name)\n",
    "    return "
   ]
  },
  {
   "cell_type": "code",
   "execution_count": 40,
   "metadata": {
    "collapsed": true
   },
   "outputs": [],
   "source": [
    "df_countries_and_types = df_countries.copy()"
   ]
  },
  {
   "cell_type": "code",
   "execution_count": 41,
   "metadata": {
    "collapsed": false
   },
   "outputs": [
    {
     "name": "stdout",
     "output_type": "stream",
     "text": [
      "[6494.0, 16133.0, 3103.0, 5375.0, 5460.0, 20384.0, 13968.0, 4176.0, 6493.0, 5521.0, 5267.0, 3868.0, 6522.0, 5444.0, 5516.0, 4183.0, 5520.0, 5320.0, 5278.0, 16124.0, 13974.0, 3922.0, 4133.0, 20572.0, 6527.0, 4175.0, 6531.0, 2180.0, 3910.0, 5821.0, 7184.0, 6281.0, 1944.0, 21271.0, 5679.0, 5831.0, 5869.0, 4086.0, 21025.0, 6598.0, 6506.0, 5346.0, 5376.0, 6442.0, 20671.0, 10643.0, 3024.0, 6489.0, 6496.0, 4004.0, 4306.0, 20881.0, 5515.0, 3886.0, 13405.0, 5829.0, 4181.0, 5824.0, 6498.0, 5429.0, 5338.0, 3358.0, 3000.0, 4118.0, 22104.0, 3138.0, 18907.0, 5306.0, 5324.0, 6595.0, 2980.0, 6459.0, 6497.0, 5465.0, 26706.0, 3093.0, 2976.0, 20676.0, 9358.0, 6446.0, 2988.0, 7120.0, 5263.0, 6441.0, 4040.0, 20965.0, 6443.0, 9289.0, 1866.0, 21965.0, 4074.0, 20944.0, 21031.0, 20448.0, 9445.0, 6549.0]\n"
     ]
    }
   ],
   "source": [
    "fill_dataFrame_countries_ingredient_type(df_countries_and_types, df_ingredients, 'meat')"
   ]
  },
  {
   "cell_type": "code",
   "execution_count": 42,
   "metadata": {
    "collapsed": false
   },
   "outputs": [
    {
     "name": "stdout",
     "output_type": "stream",
     "text": [
      "[22005.0, 2664.0, 2750.0, 2656.0, 2533.0, 2520.0, 2666.0, 22004.0, 2672.0, 2698.0, 2748.0, 2675.0, 2740.0, 2676.0, 2658.0, 2642.0, 8746.0, 2756.0, 20888.0, 20771.0, 2595.0, 22067.0, 2605.0, 22002.0, 22006.0, 7040.0, 2667.0, 2609.0, 22019.0, 22020.0, 22010.0, 2536.0, 2628.0, 2603.0]\n"
     ]
    }
   ],
   "source": [
    "fill_dataFrame_countries_ingredient_type(df_countries_and_types, df_ingredients, 'fish and seafood')"
   ]
  },
  {
   "cell_type": "code",
   "execution_count": 43,
   "metadata": {
    "collapsed": false
   },
   "outputs": [
    {
     "name": "stdout",
     "output_type": "stream",
     "text": [
      "[16317.0, 16319.0, 16318.0, 4339.0, 16323.0]\n"
     ]
    }
   ],
   "source": [
    "fill_dataFrame_countries_ingredient_type(df_countries_and_types, df_ingredients, 'egg')"
   ]
  },
  {
   "cell_type": "code",
   "execution_count": 44,
   "metadata": {
    "collapsed": false
   },
   "outputs": [
    {
     "name": "stdout",
     "output_type": "stream",
     "text": [
      "[16157.0, 16278.0, 16238.0, 16258.0, 16261.0, 16215.0, 16234.0, 16223.0, 6311.0, 16225.0, 16243.0, 16158.0, 16287.0, 16231.0, 16347.0, 16276.0, 16294.0, 16246.0, 16218.0, 16241.0, 5467.0, 16244.0, 22106.0, 445.0, 16209.0, 16340.0, 2360.0, 16232.0, 20324.0, 16248.0, 443.0, 21796.0, 16210.0, 16229.0, 19360.0, 16260.0, 19361.0, 578.0, 19356.0, 16284.0, 454.0, 8287.0, 20611.0, 14388.0, 19362.0, 16256.0, 21130.0, 16257.0, 16212.0, 16217.0, 16259.0, 16312.0, 20474.0, 257.0, 16311.0, 16360.0, 6328.0, 2879.0, 16242.0, 16366.0, 16289.0, 16226.0, 16236.0, 16282.0, 8270.0]\n"
     ]
    }
   ],
   "source": [
    "fill_dataFrame_countries_ingredient_type(df_countries_and_types, df_ingredients, 'dairy')"
   ]
  },
  {
   "cell_type": "code",
   "execution_count": 45,
   "metadata": {
    "collapsed": false
   },
   "outputs": [
    {
     "name": "stdout",
     "output_type": "stream",
     "text": [
      "[4342.0, 4397.0, 16406.0, 4405.0, 4572.0, 4432.0, 16407.0, 4279.0, 4292.0, 4786.0, 20244.0, 4378.0, 3725.0, 20269.0, 4529.0, 10498.0, 5133.0, 4267.0, 4516.0, 20453.0, 4335.0, 4657.0, 4663.0, 4574.0, 16408.0, 4372.0, 20415.0, 4252.0, 4577.0, 4421.0, 23274.0, 4664.0, 20270.0, 10895.0, 3698.0, 4520.0, 16427.0, 4380.0, 3723.0, 4575.0, 3709.0, 5489.0, 4366.0, 4784.0, 4207.0, 12341.0, 4286.0, 4371.0, 20476.0, 7822.0, 4336.0, 5855.0, 4634.0, 5159.0, 3702.0, 4273.0, 3641.0, 126.0, 4381.0, 4399.0, 3687.0, 20447.0, 4357.0, 16428.0, 10214.0, 4412.0, 4522.0, 5587.0, 12338.0, 5174.0, 4275.0, 20496.0, 18699.0, 20833.0, 4603.0, 4578.0, 10896.0, 10104.0, 20595.0, 4808.0, 2825.0, 4638.0, 4419.0, 7834.0, 4490.0, 10107.0, 7263.0, 4496.0, 9797.0, 13963.0, 4571.0, 12390.0, 3724.0, 10502.0, 3707.0, 4269.0, 12339.0, 4416.0, 22439.0, 27343.0, 4383.0, 20240.0, 4370.0, 3669.0, 26772.0, 4497.0, 5161.0, 23337.0, 7835.0, 4426.0, 4254.0, 2845.0, 20704.0, 12306.0, 20752.0, 5462.0, 2823.0, 20738.0, 16411.0, 20590.0, 20847.0, 10132.0, 20856.0, 12199.0, 1618.0, 20471.0, 12348.0, 20335.0, 11390.0, 10150.0, 4271.0, 2881.0, 3688.0]\n"
     ]
    }
   ],
   "source": [
    "fill_dataFrame_countries_ingredient_type(df_countries_and_types, df_ingredients, 'vegetables')"
   ]
  },
  {
   "cell_type": "code",
   "execution_count": 46,
   "metadata": {
    "collapsed": false
   },
   "outputs": [
    {
     "name": "stdout",
     "output_type": "stream",
     "text": [
      "[5107.0, 5112.0, 5106.0, 5111.0, 5012.0, 5219.0, 5140.0, 5110.0, 4978.0, 5145.0, 15720.0, 5121.0, 5015.0, 5233.0, 5135.0, 5195.0, 3718.0, 5218.0, 5020.0, 5188.0, 5190.0, 18845.0, 20455.0, 5051.0, 11039.0, 10987.0, 5044.0, 11137.0, 5222.0, 1593.0, 20355.0, 22117.0, 5212.0, 5007.0, 5017.0, 4991.0, 11188.0, 3494.0, 7441.0, 11225.0, 8127.0, 18427.0, 5143.0, 3566.0, 1506.0, 20209.0, 20516.0, 20227.0, 5148.0, 5036.0, 11185.0, 3562.0, 5235.0, 3722.0, 11083.0, 3539.0, 5058.0, 18416.0, 20832.0, 3563.0, 9858.0, 5154.0, 1512.0, 5053.0]\n"
     ]
    }
   ],
   "source": [
    "fill_dataFrame_countries_ingredient_type(df_countries_and_types, df_ingredients, 'fruit')"
   ]
  },
  {
   "cell_type": "code",
   "execution_count": 47,
   "metadata": {
    "collapsed": false
   },
   "outputs": [
    {
     "name": "stdout",
     "output_type": "stream",
     "text": [
      "[1684.0, 4442.0, 1636.0, 3640.0, 1650.0, 3819.0, 3795.0, 3752.0, 2779.0, 3810.0, 3767.0, 2351.0, 4314.0, 2819.0, 3789.0, 2377.0, 2858.0, 2795.0, 2104.0, 1632.0, 1686.0, 1718.0, 4311.0, 23383.0, 21785.0, 19113.0, 4237.0, 4556.0, 20316.0, 4317.0, 3814.0, 1683.0, 20468.0, 17660.0, 4607.0, 20194.0, 6057.0, 2829.0, 1709.0, 2863.0, 1320.0, 10863.0, 1651.0, 1685.0, 20726.0, 16381.0, 1533.0, 16394.0, 2073.0, 1701.0, 2940.0, 3853.0, 1728.0, 2850.0, 2805.0, 3788.0, 20287.0, 2960.0, 17673.0, 14118.0, 4537.0, 1767.0, 22082.0, 16378.0, 16351.0, 2352.0, 16383.0, 10866.0, 1687.0, 20414.0, 4315.0, 2084.0, 19258.0, 17500.0, 10041.0, 1644.0, 1648.0, 20467.0, 16409.0, 2077.0, 2812.0, 1665.0, 3797.0, 17617.0, 17677.0, 17625.0, 20486.0, 20318.0, 1631.0, 2857.0, 3758.0, 2959.0, 1637.0, 2803.0, 1658.0, 3787.0, 6818.0, 20315.0, 1654.0, 21039.0, 10429.0, 3804.0, 2769.0, 3768.0, 20518.0, 10046.0, 3792.0, 1277.0, 21010.0, 4649.0, 19347.0, 20466.0, 4511.0, 1656.0, 20522.0, 1660.0, 2793.0, 6756.0, 17675.0, 1532.0, 1690.0, 23453.0, 2817.0, 2323.0, 4240.0, 2775.0, 2108.0, 1649.0, 20309.0, 1670.0, 4457.0, 20487.0, 1630.0, 2787.0, 20717.0, 10011.0, 7192.0, 12255.0, 10048.0, 4544.0, 3793.0, 3775.0, 2900.0, 3748.0, 1657.0, 2847.0, 11626.0, 3771.0, 1669.0, 14776.0, 17529.0, 12792.0, 20217.0, 3656.0, 10043.0, 21267.0, 4534.0, 17955.0, 3140.0, 20218.0, 17508.0, 3769.0, 10480.0, 18759.0, 10883.0, 4229.0, 20627.0, 20307.0, 20616.0, 21042.0, 7111.0, 1888.0, 1668.0, 4579.0, 2831.0, 20317.0, 23160.0, 2773.0, 19621.0, 20979.0, 14089.0, 22884.0, 3783.0, 21026.0, 7789.0, 621.0, 10848.0]\n"
     ]
    }
   ],
   "source": [
    "fill_dataFrame_countries_ingredient_type(df_countries_and_types, df_ingredients, 'starchy')"
   ]
  },
  {
   "cell_type": "code",
   "execution_count": 48,
   "metadata": {
    "collapsed": false
   },
   "outputs": [
    {
     "name": "stdout",
     "output_type": "stream",
     "text": [
      "[16421.0, 6307.0, 6305.0, 2882.0, 20482.0, 7842.0, 9725.0, 6294.0, 6309.0, 4582.0, 6379.0, 7428.0, 5592.0, 5588.0, 3686.0, 18866.0, 16339.0, 6420.0, 20245.0, 18868.0, 18752.0, 5597.0, 18740.0, 16422.0, 5803.0, 18765.0, 18930.0, 18873.0, 18805.0, 18723.0, 18741.0, 16420.0, 5593.0, 6304.0, 16400.0, 5596.0, 16169.0, 12057.0, 2958.0, 20656.0, 5595.0, 5547.0, 20235.0, 18738.0, 5482.0, 13596.0, 16410.0, 3703.0, 20558.0, 13611.0, 4994.0, 2231.0, 13591.0, 11444.0, 20475.0, 13705.0, 9722.0, 7431.0, 18901.0, 7819.0, 20495.0, 18739.0, 18783.0, 13608.0, 6422.0, 11440.0, 2155.0, 19065.0, 7767.0, 20687.0, 7444.0, 10274.0, 18870.0, 20853.0, 25687.0, 5397.0, 5630.0, 20808.0, 6378.0, 2150.0, 6306.0, 24905.0, 7452.0, 10275.0, 7818.0, 7429.0, 20692.0, 18779.0, 17600.0, 20241.0, 11561.0, 4385.0, 21027.0, 7432.0, 5045.0, 7308.0, 19273.0, 24865.0, 18952.0, 20478.0, 20583.0, 3512.0, 20862.0, 20337.0, 2114.0, 20696.0, 18921.0, 5552.0, 18756.0, 21076.0]\n"
     ]
    }
   ],
   "source": [
    "fill_dataFrame_countries_ingredient_type(df_countries_and_types, df_ingredients, 'condiment')"
   ]
  },
  {
   "cell_type": "code",
   "execution_count": 49,
   "metadata": {
    "collapsed": false
   },
   "outputs": [
    {
     "name": "stdout",
     "output_type": "stream",
     "text": [
      "[16424.0, 20551.0, 16386.0, 16396.0, 4343.0, 16385.0, 16404.0, 2356.0, 16401.0, 16418.0, 16397.0, 16391.0, 16402.0, 16387.0, 1416.0, 7785.0, 16390.0, 16377.0, 20303.0, 18794.0, 20473.0, 16382.0, 18684.0, 16413.0, 20469.0, 18748.0, 1442.0, 20678.0, 20860.0, 21196.0, 1350.0, 1417.0, 16348.0, 20631.0, 20461.0, 21211.0, 20345.0, 27038.0, 20679.0, 18680.0, 18865.0, 2216.0, 8868.0, 18849.0, 21212.0, 2357.0, 7980.0, 21263.0, 25308.0, 13201.0, 7305.0]\n"
     ]
    }
   ],
   "source": [
    "fill_dataFrame_countries_ingredient_type(df_countries_and_types, df_ingredients, 'spicies')"
   ]
  },
  {
   "cell_type": "code",
   "execution_count": 50,
   "metadata": {
    "collapsed": false
   },
   "outputs": [
    {
     "name": "stdout",
     "output_type": "stream",
     "text": [
      "[3717.0, 4409.0, 16403.0, 16380.0, 16159.0, 16417.0, 18681.0, 16405.0, 18844.0, 18860.0, 16379.0, 16423.0, 5838.0, 16429.0, 16412.0, 20699.0, 18766.0, 16389.0, 5861.0, 4302.0, 16414.0, 18771.0, 18767.0, 20654.0, 21886.0, 4373.0, 5871.0, 21507.0, 20825.0, 16388.0, 20632.0, 18682.0, 18810.0, 21536.0, 5873.0, 18706.0, 25944.0, 5863.0, 23273.0, 9319.0, 18768.0]\n"
     ]
    }
   ],
   "source": [
    "fill_dataFrame_countries_ingredient_type(df_countries_and_types, df_ingredients, 'herbs')"
   ]
  },
  {
   "cell_type": "code",
   "execution_count": 51,
   "metadata": {
    "collapsed": false
   },
   "outputs": [
    {
     "name": "stdout",
     "output_type": "stream",
     "text": [
      "[1526.0, 1525.0, 1527.0, 1502.0, 1338.0, 1536.0, 18521.0, 20359.0, 1336.0, 18526.0, 12150.0, 22056.0, 8610.0, 7812.0, 3507.0, 20619.0, 1429.0, 20708.0, 20199.0, 1373.0, 8558.0]\n"
     ]
    }
   ],
   "source": [
    "fill_dataFrame_countries_ingredient_type(df_countries_and_types, df_ingredients, 'sugared')"
   ]
  },
  {
   "cell_type": "code",
   "execution_count": 52,
   "metadata": {
    "collapsed": false
   },
   "outputs": [
    {
     "name": "stdout",
     "output_type": "stream",
     "text": [
      "[3474.0, 2112.0, 3472.0, 18888.0, 3452.0, 20314.0, 3467.0, 18875.0, 2363.0, 20190.0, 8317.0, 3468.0, 22318.0, 15709.0, 8336.0, 3469.0, 20234.0, 18111.0, 23388.0, 20426.0, 18874.0, 3471.0, 15738.0, 20205.0, 20224.0, 15723.0, 2503.0, 20667.0, 20492.0, 20225.0, 20421.0, 8310.0, 18953.0, 20670.0, 20201.0, 3453.0, 20356.0, 15698.0, 24419.0, 8311.0]\n"
     ]
    }
   ],
   "source": [
    "fill_dataFrame_countries_ingredient_type(df_countries_and_types, df_ingredients, 'alcohol')"
   ]
  },
  {
   "cell_type": "code",
   "execution_count": 53,
   "metadata": {
    "collapsed": false
   },
   "outputs": [
    {
     "data": {
      "text/html": [
       "<div>\n",
       "<table border=\"1\" class=\"dataframe\">\n",
       "  <thead>\n",
       "    <tr style=\"text-align: right;\">\n",
       "      <th></th>\n",
       "      <th>geo_identifier</th>\n",
       "      <th>geo_name</th>\n",
       "      <th>database_name</th>\n",
       "      <th>nbRecipes</th>\n",
       "      <th>meat</th>\n",
       "      <th>fish and seafood</th>\n",
       "      <th>egg</th>\n",
       "      <th>dairy</th>\n",
       "      <th>vegetables</th>\n",
       "      <th>fruit</th>\n",
       "      <th>starchy</th>\n",
       "      <th>condiment</th>\n",
       "      <th>spicies</th>\n",
       "      <th>herbs</th>\n",
       "      <th>sugared</th>\n",
       "      <th>alcohol</th>\n",
       "    </tr>\n",
       "  </thead>\n",
       "  <tbody>\n",
       "    <tr>\n",
       "      <th>45</th>\n",
       "      <td>ARG</td>\n",
       "      <td>Argentina</td>\n",
       "      <td>argentinian</td>\n",
       "      <td>23.0</td>\n",
       "      <td>0.173913</td>\n",
       "      <td>0.000000</td>\n",
       "      <td>0.391304</td>\n",
       "      <td>0.391304</td>\n",
       "      <td>0.608696</td>\n",
       "      <td>0.347826</td>\n",
       "      <td>0.434783</td>\n",
       "      <td>0.826087</td>\n",
       "      <td>0.608696</td>\n",
       "      <td>0.434783</td>\n",
       "      <td>0.173913</td>\n",
       "      <td>0.304348</td>\n",
       "    </tr>\n",
       "    <tr>\n",
       "      <th>10</th>\n",
       "      <td>AUT</td>\n",
       "      <td>Austria</td>\n",
       "      <td>austrian</td>\n",
       "      <td>30.0</td>\n",
       "      <td>0.066667</td>\n",
       "      <td>0.000000</td>\n",
       "      <td>0.700000</td>\n",
       "      <td>0.800000</td>\n",
       "      <td>0.100000</td>\n",
       "      <td>0.433333</td>\n",
       "      <td>0.900000</td>\n",
       "      <td>0.700000</td>\n",
       "      <td>0.600000</td>\n",
       "      <td>0.066667</td>\n",
       "      <td>0.766667</td>\n",
       "      <td>0.400000</td>\n",
       "    </tr>\n",
       "    <tr>\n",
       "      <th>24</th>\n",
       "      <td>BEL</td>\n",
       "      <td>Belgium</td>\n",
       "      <td>belgian</td>\n",
       "      <td>15.0</td>\n",
       "      <td>0.466667</td>\n",
       "      <td>0.000000</td>\n",
       "      <td>0.400000</td>\n",
       "      <td>0.733333</td>\n",
       "      <td>0.466667</td>\n",
       "      <td>0.333333</td>\n",
       "      <td>0.933333</td>\n",
       "      <td>0.866667</td>\n",
       "      <td>0.466667</td>\n",
       "      <td>0.400000</td>\n",
       "      <td>0.400000</td>\n",
       "      <td>0.266667</td>\n",
       "    </tr>\n",
       "    <tr>\n",
       "      <th>22</th>\n",
       "      <td>BGD</td>\n",
       "      <td>Bangladesh</td>\n",
       "      <td>bangladeshi</td>\n",
       "      <td>14.0</td>\n",
       "      <td>0.357143</td>\n",
       "      <td>0.357143</td>\n",
       "      <td>0.142857</td>\n",
       "      <td>0.142857</td>\n",
       "      <td>1.000000</td>\n",
       "      <td>0.071429</td>\n",
       "      <td>0.857143</td>\n",
       "      <td>1.000000</td>\n",
       "      <td>1.000000</td>\n",
       "      <td>0.785714</td>\n",
       "      <td>0.214286</td>\n",
       "      <td>0.000000</td>\n",
       "    </tr>\n",
       "    <tr>\n",
       "      <th>0</th>\n",
       "      <td>BRA</td>\n",
       "      <td>Brazil</td>\n",
       "      <td>brazilian</td>\n",
       "      <td>88.0</td>\n",
       "      <td>0.261364</td>\n",
       "      <td>0.045455</td>\n",
       "      <td>0.329545</td>\n",
       "      <td>0.534091</td>\n",
       "      <td>0.465909</td>\n",
       "      <td>0.318182</td>\n",
       "      <td>0.534091</td>\n",
       "      <td>0.693182</td>\n",
       "      <td>0.295455</td>\n",
       "      <td>0.329545</td>\n",
       "      <td>0.386364</td>\n",
       "      <td>0.102273</td>\n",
       "    </tr>\n",
       "    <tr>\n",
       "      <th>31</th>\n",
       "      <td>CAN</td>\n",
       "      <td>Canada</td>\n",
       "      <td>canadian</td>\n",
       "      <td>1167.0</td>\n",
       "      <td>0.296487</td>\n",
       "      <td>0.040274</td>\n",
       "      <td>0.289632</td>\n",
       "      <td>0.579263</td>\n",
       "      <td>0.568123</td>\n",
       "      <td>0.320480</td>\n",
       "      <td>0.630677</td>\n",
       "      <td>0.754070</td>\n",
       "      <td>0.482434</td>\n",
       "      <td>0.231362</td>\n",
       "      <td>0.481577</td>\n",
       "      <td>0.133676</td>\n",
       "    </tr>\n",
       "    <tr>\n",
       "      <th>8</th>\n",
       "      <td>CHE</td>\n",
       "      <td>Switzerland</td>\n",
       "      <td>swiss</td>\n",
       "      <td>29.0</td>\n",
       "      <td>0.241379</td>\n",
       "      <td>0.000000</td>\n",
       "      <td>0.310345</td>\n",
       "      <td>0.689655</td>\n",
       "      <td>0.586207</td>\n",
       "      <td>0.241379</td>\n",
       "      <td>0.931034</td>\n",
       "      <td>0.793103</td>\n",
       "      <td>0.379310</td>\n",
       "      <td>0.137931</td>\n",
       "      <td>0.344828</td>\n",
       "      <td>0.275862</td>\n",
       "    </tr>\n",
       "    <tr>\n",
       "      <th>9</th>\n",
       "      <td>CHL</td>\n",
       "      <td>Chile</td>\n",
       "      <td>chilean</td>\n",
       "      <td>32.0</td>\n",
       "      <td>0.437500</td>\n",
       "      <td>0.093750</td>\n",
       "      <td>0.406250</td>\n",
       "      <td>0.562500</td>\n",
       "      <td>0.500000</td>\n",
       "      <td>0.437500</td>\n",
       "      <td>0.562500</td>\n",
       "      <td>0.625000</td>\n",
       "      <td>0.531250</td>\n",
       "      <td>0.281250</td>\n",
       "      <td>0.281250</td>\n",
       "      <td>0.375000</td>\n",
       "    </tr>\n",
       "    <tr>\n",
       "      <th>15</th>\n",
       "      <td>CHN</td>\n",
       "      <td>China</td>\n",
       "      <td>chinese</td>\n",
       "      <td>247.0</td>\n",
       "      <td>0.643725</td>\n",
       "      <td>0.113360</td>\n",
       "      <td>0.315789</td>\n",
       "      <td>0.093117</td>\n",
       "      <td>0.813765</td>\n",
       "      <td>0.210526</td>\n",
       "      <td>0.740891</td>\n",
       "      <td>0.898785</td>\n",
       "      <td>0.502024</td>\n",
       "      <td>0.105263</td>\n",
       "      <td>0.546559</td>\n",
       "      <td>0.182186</td>\n",
       "    </tr>\n",
       "    <tr>\n",
       "      <th>47</th>\n",
       "      <td>COL</td>\n",
       "      <td>Colombia</td>\n",
       "      <td>colombian</td>\n",
       "      <td>13.0</td>\n",
       "      <td>0.615385</td>\n",
       "      <td>0.000000</td>\n",
       "      <td>0.076923</td>\n",
       "      <td>0.307692</td>\n",
       "      <td>0.846154</td>\n",
       "      <td>0.230769</td>\n",
       "      <td>0.615385</td>\n",
       "      <td>1.000000</td>\n",
       "      <td>0.615385</td>\n",
       "      <td>0.461538</td>\n",
       "      <td>0.076923</td>\n",
       "      <td>0.076923</td>\n",
       "    </tr>\n",
       "  </tbody>\n",
       "</table>\n",
       "</div>"
      ],
      "text/plain": [
       "   geo_identifier     geo_name database_name  nbRecipes      meat  \\\n",
       "45            ARG    Argentina   argentinian       23.0  0.173913   \n",
       "10            AUT      Austria      austrian       30.0  0.066667   \n",
       "24            BEL      Belgium       belgian       15.0  0.466667   \n",
       "22            BGD   Bangladesh   bangladeshi       14.0  0.357143   \n",
       "0             BRA       Brazil     brazilian       88.0  0.261364   \n",
       "31            CAN       Canada      canadian     1167.0  0.296487   \n",
       "8             CHE  Switzerland         swiss       29.0  0.241379   \n",
       "9             CHL        Chile       chilean       32.0  0.437500   \n",
       "15            CHN        China       chinese      247.0  0.643725   \n",
       "47            COL     Colombia     colombian       13.0  0.615385   \n",
       "\n",
       "    fish and seafood       egg     dairy  vegetables     fruit   starchy  \\\n",
       "45          0.000000  0.391304  0.391304    0.608696  0.347826  0.434783   \n",
       "10          0.000000  0.700000  0.800000    0.100000  0.433333  0.900000   \n",
       "24          0.000000  0.400000  0.733333    0.466667  0.333333  0.933333   \n",
       "22          0.357143  0.142857  0.142857    1.000000  0.071429  0.857143   \n",
       "0           0.045455  0.329545  0.534091    0.465909  0.318182  0.534091   \n",
       "31          0.040274  0.289632  0.579263    0.568123  0.320480  0.630677   \n",
       "8           0.000000  0.310345  0.689655    0.586207  0.241379  0.931034   \n",
       "9           0.093750  0.406250  0.562500    0.500000  0.437500  0.562500   \n",
       "15          0.113360  0.315789  0.093117    0.813765  0.210526  0.740891   \n",
       "47          0.000000  0.076923  0.307692    0.846154  0.230769  0.615385   \n",
       "\n",
       "    condiment   spicies     herbs   sugared   alcohol  \n",
       "45   0.826087  0.608696  0.434783  0.173913  0.304348  \n",
       "10   0.700000  0.600000  0.066667  0.766667  0.400000  \n",
       "24   0.866667  0.466667  0.400000  0.400000  0.266667  \n",
       "22   1.000000  1.000000  0.785714  0.214286  0.000000  \n",
       "0    0.693182  0.295455  0.329545  0.386364  0.102273  \n",
       "31   0.754070  0.482434  0.231362  0.481577  0.133676  \n",
       "8    0.793103  0.379310  0.137931  0.344828  0.275862  \n",
       "9    0.625000  0.531250  0.281250  0.281250  0.375000  \n",
       "15   0.898785  0.502024  0.105263  0.546559  0.182186  \n",
       "47   1.000000  0.615385  0.461538  0.076923  0.076923  "
      ]
     },
     "execution_count": 53,
     "metadata": {},
     "output_type": "execute_result"
    }
   ],
   "source": [
    "df_countries_and_types.head(10)"
   ]
  },
  {
   "cell_type": "markdown",
   "metadata": {},
   "source": [
    "## Countries and Ingredients"
   ]
  },
  {
   "cell_type": "code",
   "execution_count": 54,
   "metadata": {
    "collapsed": false
   },
   "outputs": [],
   "source": [
    "def fill_dataFrame_ingredient(df, df_ingredients, ingredient_name):\n",
    "    ingredient_ids = find_ingredient_ids(df_ingredients, ingredient_name)\n",
    "    print(ingredient_ids)\n",
    "    if len(ingredient_ids) != 0:\n",
    "        fill_dataFrame_countries_ingredient_by_ids(df, ingredient_ids, ingredient_name)\n",
    "    return "
   ]
  },
  {
   "cell_type": "code",
   "execution_count": 55,
   "metadata": {
    "collapsed": true
   },
   "outputs": [],
   "source": [
    "df_countries_and_ingredients = df_countries.copy()"
   ]
  },
  {
   "cell_type": "code",
   "execution_count": 56,
   "metadata": {
    "collapsed": false
   },
   "outputs": [
    {
     "name": "stdout",
     "output_type": "stream",
     "text": [
      "[6494.0, 16133.0, 20384.0, 13968.0, 6493.0, 5521.0, 6522.0, 5467.0, 5520.0, 16124.0, 6527.0, 6531.0, 5679.0, 21025.0, 6506.0, 6442.0, 10643.0, 6489.0, 6496.0, 13405.0, 6498.0, 5429.0, 6459.0, 6497.0, 5465.0, 6446.0, 6441.0, 6443.0, 21031.0, 6549.0]\n"
     ]
    }
   ],
   "source": [
    "fill_dataFrame_countries_ingredient(df_countries_and_ingredients, df_ingredients, 'chicken')"
   ]
  },
  {
   "cell_type": "code",
   "execution_count": 57,
   "metadata": {
    "collapsed": false
   },
   "outputs": [
    {
     "name": "stdout",
     "output_type": "stream",
     "text": [
      "[3103.0, 5460.0, 3868.0, 5516.0, 13974.0, 4133.0, 3910.0, 4086.0, 4004.0, 5515.0, 3886.0, 22104.0, 3138.0, 9358.0, 7120.0, 3140.0, 4040.0, 4074.0, 9445.0]\n"
     ]
    }
   ],
   "source": [
    "fill_dataFrame_countries_ingredient(df_countries_and_ingredients, df_ingredients, 'beef')"
   ]
  },
  {
   "cell_type": "code",
   "execution_count": 58,
   "metadata": {
    "collapsed": false
   },
   "outputs": [
    {
     "name": "stdout",
     "output_type": "stream",
     "text": [
      "[4176.0, 4183.0, 5320.0, 5278.0, 4175.0, 5346.0, 4181.0, 20632.0, 5338.0, 5397.0, 5306.0, 5324.0, 20676.0, 5263.0, 9289.0, 2773.0]\n"
     ]
    }
   ],
   "source": [
    "fill_dataFrame_countries_ingredient(df_countries_and_ingredients, df_ingredients, 'pork')"
   ]
  },
  {
   "cell_type": "code",
   "execution_count": 59,
   "metadata": {
    "collapsed": false
   },
   "outputs": [
    {
     "name": "stdout",
     "output_type": "stream",
     "text": [
      "[1650.0, 18868.0, 1651.0, 1728.0, 19258.0, 8336.0, 1648.0, 1665.0, 17617.0, 17625.0, 1658.0, 1654.0, 18870.0, 1656.0, 1660.0, 1690.0, 1649.0, 1657.0]\n"
     ]
    }
   ],
   "source": [
    "fill_dataFrame_countries_ingredient(df_countries_and_ingredients, df_ingredients, 'rice')"
   ]
  },
  {
   "cell_type": "code",
   "execution_count": 60,
   "metadata": {
    "collapsed": false
   },
   "outputs": [
    {
     "name": "stdout",
     "output_type": "stream",
     "text": [
      "[2882.0, 2958.0, 10274.0, 10275.0]\n"
     ]
    }
   ],
   "source": [
    "fill_dataFrame_countries_ingredient(df_countries_and_ingredients, df_ingredients, 'soy sauce')"
   ]
  },
  {
   "cell_type": "code",
   "execution_count": 61,
   "metadata": {
    "collapsed": false
   },
   "outputs": [
    {
     "name": "stdout",
     "output_type": "stream",
     "text": [
      "[16234.0, 16232.0, 19361.0]\n"
     ]
    }
   ],
   "source": [
    "fill_dataFrame_countries_ingredient(df_countries_and_ingredients, df_ingredients, 'mozzarella')"
   ]
  },
  {
   "cell_type": "code",
   "execution_count": 62,
   "metadata": {
    "collapsed": false
   },
   "outputs": [
    {
     "name": "stdout",
     "output_type": "stream",
     "text": [
      "[4342.0, 16396.0, 18740.0, 20486.0, 12390.0, 20752.0, 20590.0]\n"
     ]
    }
   ],
   "source": [
    "fill_dataFrame_countries_ingredient(df_countries_and_ingredients, df_ingredients, 'garlic')"
   ]
  },
  {
   "cell_type": "code",
   "execution_count": 63,
   "metadata": {
    "collapsed": false
   },
   "outputs": [
    {
     "name": "stdout",
     "output_type": "stream",
     "text": [
      "[16157.0, 16339.0, 16287.0, 2858.0, 16209.0, 4537.0, 2857.0, 10848.0]\n"
     ]
    }
   ],
   "source": [
    "fill_dataFrame_countries_ingredient(df_countries_and_ingredients, df_ingredients, 'butter')"
   ]
  },
  {
   "cell_type": "code",
   "execution_count": 64,
   "metadata": {
    "collapsed": false
   },
   "outputs": [
    {
     "name": "stdout",
     "output_type": "stream",
     "text": [
      "[6307.0, 6305.0, 20482.0, 9725.0, 6309.0, 6379.0, 6420.0, 6304.0, 3703.0, 20558.0, 9722.0, 6422.0, 25687.0, 6378.0, 6306.0, 24905.0, 21027.0, 20696.0]\n"
     ]
    }
   ],
   "source": [
    "fill_dataFrame_countries_ingredient(df_countries_and_ingredients, df_ingredients, 'oil')"
   ]
  },
  {
   "cell_type": "code",
   "execution_count": 65,
   "metadata": {
    "collapsed": false
   },
   "outputs": [
    {
     "name": "stdout",
     "output_type": "stream",
     "text": [
      "[22005.0, 2664.0, 2666.0, 22004.0, 22067.0, 22002.0, 22006.0, 2667.0, 22019.0, 22020.0, 22010.0]\n"
     ]
    }
   ],
   "source": [
    "fill_dataFrame_countries_ingredient(df_countries_and_ingredients, df_ingredients, 'shrimp')"
   ]
  },
  {
   "cell_type": "code",
   "execution_count": 66,
   "metadata": {
    "collapsed": false
   },
   "outputs": [
    {
     "data": {
      "text/html": [
       "<div>\n",
       "<table border=\"1\" class=\"dataframe\">\n",
       "  <thead>\n",
       "    <tr style=\"text-align: right;\">\n",
       "      <th></th>\n",
       "      <th>geo_identifier</th>\n",
       "      <th>geo_name</th>\n",
       "      <th>database_name</th>\n",
       "      <th>nbRecipes</th>\n",
       "      <th>chicken</th>\n",
       "      <th>beef</th>\n",
       "      <th>pork</th>\n",
       "      <th>rice</th>\n",
       "      <th>soy sauce</th>\n",
       "      <th>mozzarella</th>\n",
       "      <th>garlic</th>\n",
       "      <th>butter</th>\n",
       "      <th>oil</th>\n",
       "      <th>shrimp</th>\n",
       "    </tr>\n",
       "  </thead>\n",
       "  <tbody>\n",
       "    <tr>\n",
       "      <th>45</th>\n",
       "      <td>ARG</td>\n",
       "      <td>Argentina</td>\n",
       "      <td>argentinian</td>\n",
       "      <td>23.0</td>\n",
       "      <td>0.043478</td>\n",
       "      <td>0.043478</td>\n",
       "      <td>0.000000</td>\n",
       "      <td>0.000000</td>\n",
       "      <td>0.000000</td>\n",
       "      <td>0.000000</td>\n",
       "      <td>0.434783</td>\n",
       "      <td>0.260870</td>\n",
       "      <td>0.521739</td>\n",
       "      <td>0.000000</td>\n",
       "    </tr>\n",
       "    <tr>\n",
       "      <th>10</th>\n",
       "      <td>AUT</td>\n",
       "      <td>Austria</td>\n",
       "      <td>austrian</td>\n",
       "      <td>30.0</td>\n",
       "      <td>0.000000</td>\n",
       "      <td>0.033333</td>\n",
       "      <td>0.000000</td>\n",
       "      <td>0.000000</td>\n",
       "      <td>0.000000</td>\n",
       "      <td>0.000000</td>\n",
       "      <td>0.000000</td>\n",
       "      <td>0.700000</td>\n",
       "      <td>0.100000</td>\n",
       "      <td>0.000000</td>\n",
       "    </tr>\n",
       "    <tr>\n",
       "      <th>24</th>\n",
       "      <td>BEL</td>\n",
       "      <td>Belgium</td>\n",
       "      <td>belgian</td>\n",
       "      <td>15.0</td>\n",
       "      <td>0.133333</td>\n",
       "      <td>0.066667</td>\n",
       "      <td>0.066667</td>\n",
       "      <td>0.000000</td>\n",
       "      <td>0.000000</td>\n",
       "      <td>0.000000</td>\n",
       "      <td>0.133333</td>\n",
       "      <td>0.600000</td>\n",
       "      <td>0.200000</td>\n",
       "      <td>0.000000</td>\n",
       "    </tr>\n",
       "    <tr>\n",
       "      <th>22</th>\n",
       "      <td>BGD</td>\n",
       "      <td>Bangladesh</td>\n",
       "      <td>bangladeshi</td>\n",
       "      <td>14.0</td>\n",
       "      <td>0.071429</td>\n",
       "      <td>0.214286</td>\n",
       "      <td>0.000000</td>\n",
       "      <td>0.071429</td>\n",
       "      <td>0.000000</td>\n",
       "      <td>0.000000</td>\n",
       "      <td>0.785714</td>\n",
       "      <td>0.142857</td>\n",
       "      <td>0.857143</td>\n",
       "      <td>0.071429</td>\n",
       "    </tr>\n",
       "    <tr>\n",
       "      <th>0</th>\n",
       "      <td>BRA</td>\n",
       "      <td>Brazil</td>\n",
       "      <td>brazilian</td>\n",
       "      <td>88.0</td>\n",
       "      <td>0.125000</td>\n",
       "      <td>0.045455</td>\n",
       "      <td>0.045455</td>\n",
       "      <td>0.079545</td>\n",
       "      <td>0.022727</td>\n",
       "      <td>0.034091</td>\n",
       "      <td>0.329545</td>\n",
       "      <td>0.227273</td>\n",
       "      <td>0.477273</td>\n",
       "      <td>0.011364</td>\n",
       "    </tr>\n",
       "    <tr>\n",
       "      <th>31</th>\n",
       "      <td>CAN</td>\n",
       "      <td>Canada</td>\n",
       "      <td>canadian</td>\n",
       "      <td>1167.0</td>\n",
       "      <td>0.119966</td>\n",
       "      <td>0.057412</td>\n",
       "      <td>0.037704</td>\n",
       "      <td>0.042845</td>\n",
       "      <td>0.063410</td>\n",
       "      <td>0.023136</td>\n",
       "      <td>0.277635</td>\n",
       "      <td>0.351328</td>\n",
       "      <td>0.292202</td>\n",
       "      <td>0.012853</td>\n",
       "    </tr>\n",
       "    <tr>\n",
       "      <th>8</th>\n",
       "      <td>CHE</td>\n",
       "      <td>Switzerland</td>\n",
       "      <td>swiss</td>\n",
       "      <td>29.0</td>\n",
       "      <td>0.034483</td>\n",
       "      <td>0.172414</td>\n",
       "      <td>0.000000</td>\n",
       "      <td>0.000000</td>\n",
       "      <td>0.000000</td>\n",
       "      <td>0.000000</td>\n",
       "      <td>0.206897</td>\n",
       "      <td>0.448276</td>\n",
       "      <td>0.172414</td>\n",
       "      <td>0.000000</td>\n",
       "    </tr>\n",
       "    <tr>\n",
       "      <th>9</th>\n",
       "      <td>CHL</td>\n",
       "      <td>Chile</td>\n",
       "      <td>chilean</td>\n",
       "      <td>32.0</td>\n",
       "      <td>0.125000</td>\n",
       "      <td>0.156250</td>\n",
       "      <td>0.062500</td>\n",
       "      <td>0.031250</td>\n",
       "      <td>0.000000</td>\n",
       "      <td>0.000000</td>\n",
       "      <td>0.281250</td>\n",
       "      <td>0.312500</td>\n",
       "      <td>0.312500</td>\n",
       "      <td>0.062500</td>\n",
       "    </tr>\n",
       "    <tr>\n",
       "      <th>15</th>\n",
       "      <td>CHN</td>\n",
       "      <td>China</td>\n",
       "      <td>chinese</td>\n",
       "      <td>247.0</td>\n",
       "      <td>0.417004</td>\n",
       "      <td>0.020243</td>\n",
       "      <td>0.242915</td>\n",
       "      <td>0.279352</td>\n",
       "      <td>0.651822</td>\n",
       "      <td>0.000000</td>\n",
       "      <td>0.473684</td>\n",
       "      <td>0.044534</td>\n",
       "      <td>0.724696</td>\n",
       "      <td>0.089069</td>\n",
       "    </tr>\n",
       "    <tr>\n",
       "      <th>47</th>\n",
       "      <td>COL</td>\n",
       "      <td>Colombia</td>\n",
       "      <td>colombian</td>\n",
       "      <td>13.0</td>\n",
       "      <td>0.461538</td>\n",
       "      <td>0.230769</td>\n",
       "      <td>0.076923</td>\n",
       "      <td>0.000000</td>\n",
       "      <td>0.000000</td>\n",
       "      <td>0.076923</td>\n",
       "      <td>0.538462</td>\n",
       "      <td>0.076923</td>\n",
       "      <td>0.769231</td>\n",
       "      <td>0.000000</td>\n",
       "    </tr>\n",
       "  </tbody>\n",
       "</table>\n",
       "</div>"
      ],
      "text/plain": [
       "   geo_identifier     geo_name database_name  nbRecipes   chicken      beef  \\\n",
       "45            ARG    Argentina   argentinian       23.0  0.043478  0.043478   \n",
       "10            AUT      Austria      austrian       30.0  0.000000  0.033333   \n",
       "24            BEL      Belgium       belgian       15.0  0.133333  0.066667   \n",
       "22            BGD   Bangladesh   bangladeshi       14.0  0.071429  0.214286   \n",
       "0             BRA       Brazil     brazilian       88.0  0.125000  0.045455   \n",
       "31            CAN       Canada      canadian     1167.0  0.119966  0.057412   \n",
       "8             CHE  Switzerland         swiss       29.0  0.034483  0.172414   \n",
       "9             CHL        Chile       chilean       32.0  0.125000  0.156250   \n",
       "15            CHN        China       chinese      247.0  0.417004  0.020243   \n",
       "47            COL     Colombia     colombian       13.0  0.461538  0.230769   \n",
       "\n",
       "        pork      rice  soy sauce  mozzarella    garlic    butter       oil  \\\n",
       "45  0.000000  0.000000   0.000000    0.000000  0.434783  0.260870  0.521739   \n",
       "10  0.000000  0.000000   0.000000    0.000000  0.000000  0.700000  0.100000   \n",
       "24  0.066667  0.000000   0.000000    0.000000  0.133333  0.600000  0.200000   \n",
       "22  0.000000  0.071429   0.000000    0.000000  0.785714  0.142857  0.857143   \n",
       "0   0.045455  0.079545   0.022727    0.034091  0.329545  0.227273  0.477273   \n",
       "31  0.037704  0.042845   0.063410    0.023136  0.277635  0.351328  0.292202   \n",
       "8   0.000000  0.000000   0.000000    0.000000  0.206897  0.448276  0.172414   \n",
       "9   0.062500  0.031250   0.000000    0.000000  0.281250  0.312500  0.312500   \n",
       "15  0.242915  0.279352   0.651822    0.000000  0.473684  0.044534  0.724696   \n",
       "47  0.076923  0.000000   0.000000    0.076923  0.538462  0.076923  0.769231   \n",
       "\n",
       "      shrimp  \n",
       "45  0.000000  \n",
       "10  0.000000  \n",
       "24  0.000000  \n",
       "22  0.071429  \n",
       "0   0.011364  \n",
       "31  0.012853  \n",
       "8   0.000000  \n",
       "9   0.062500  \n",
       "15  0.089069  \n",
       "47  0.000000  "
      ]
     },
     "execution_count": 66,
     "metadata": {},
     "output_type": "execute_result"
    }
   ],
   "source": [
    "df_countries_and_ingredients.head(10)"
   ]
  },
  {
   "cell_type": "markdown",
   "metadata": {},
   "source": [
    "# Counting number of recipes per US states"
   ]
  },
  {
   "cell_type": "code",
   "execution_count": null,
   "metadata": {
    "collapsed": true
   },
   "outputs": [],
   "source": [
    "def initialize_dataFrame_countries(json_name):\n",
    "    with open(json_name) as data_file:\n",
    "        agg_data = json.load(data_file)\n",
    "    \n",
    "    df_countries = pd.DataFrame(columns=['geo_identifier', 'geo_name', 'database_name', 'nbRecipes'])\n",
    "    \n",
    "    for country in agg_data[\"per_country\"]:\n",
    "        df_countries.loc[len(df_countries)] = pd.Series([country[\"geo_identifier\"], country[\"geo_name\"], country[\"database_name\"], country[\"nbRecipes\"]], \n",
    "               index=['geo_identifier', 'geo_name', 'database_name', 'nbRecipes'])\n",
    "  \n",
    "    return df_countries.sort_values(by='geo_identifier', ascending=True)"
   ]
  },
  {
   "cell_type": "code",
   "execution_count": null,
   "metadata": {
    "collapsed": true
   },
   "outputs": [],
   "source": [
    "# INPROGRESS"
   ]
  },
  {
   "cell_type": "markdown",
   "metadata": {},
   "source": [
    "# JSONs generation"
   ]
  },
  {
   "cell_type": "markdown",
   "metadata": {},
   "source": [
    "### JSON food type"
   ]
  },
  {
   "cell_type": "code",
   "execution_count": null,
   "metadata": {
    "collapsed": true
   },
   "outputs": [],
   "source": [
    "coutries_json = []\n",
    "for i in range(len(df_countries_and_types)):\n",
    "    coutries_json.append(df_countries_and_types.iloc[i].to_json())"
   ]
  },
  {
   "cell_type": "code",
   "execution_count": null,
   "metadata": {
    "collapsed": false
   },
   "outputs": [],
   "source": [
    "type_json = {\"per_country\": coutries_json}"
   ]
  },
  {
   "cell_type": "code",
   "execution_count": null,
   "metadata": {
    "collapsed": false
   },
   "outputs": [],
   "source": [
    "line = df_countries_and_types.iloc[0].to_json()\n",
    "line"
   ]
  },
  {
   "cell_type": "code",
   "execution_count": null,
   "metadata": {
    "collapsed": false
   },
   "outputs": [],
   "source": [
    "line"
   ]
  },
  {
   "cell_type": "code",
   "execution_count": null,
   "metadata": {
    "collapsed": true
   },
   "outputs": [],
   "source": [
    "dic={\"geo_name\": line.name, 'name': 'mkyong.com', 'messages': ['msg 1', 'msg 2', 'msg 3']}"
   ]
  },
  {
   "cell_type": "code",
   "execution_count": null,
   "metadata": {
    "collapsed": true
   },
   "outputs": [],
   "source": [
    "def create_line_dict(line):"
   ]
  },
  {
   "cell_type": "code",
   "execution_count": null,
   "metadata": {
    "collapsed": false
   },
   "outputs": [],
   "source": [
    "df_countries_and_ingredients.to_json()"
   ]
  },
  {
   "cell_type": "code",
   "execution_count": null,
   "metadata": {
    "collapsed": true
   },
   "outputs": [],
   "source": []
  }
 ],
 "metadata": {
  "anaconda-cloud": {},
  "kernelspec": {
   "display_name": "Python [Root]",
   "language": "python",
   "name": "Python [Root]"
  },
  "language_info": {
   "codemirror_mode": {
    "name": "ipython",
    "version": 3
   },
   "file_extension": ".py",
   "mimetype": "text/x-python",
   "name": "python",
   "nbconvert_exporter": "python",
   "pygments_lexer": "ipython3",
   "version": "3.5.2"
  }
 },
 "nbformat": 4,
 "nbformat_minor": 0
}
