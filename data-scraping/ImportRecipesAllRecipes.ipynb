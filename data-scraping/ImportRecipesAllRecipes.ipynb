{
 "cells": [
  {
   "cell_type": "code",
   "execution_count": 25,
   "metadata": {
    "collapsed": true
   },
   "outputs": [],
   "source": [
    "import numpy as np\n",
    "import pandas as pd\n",
    "from bs4 import BeautifulSoup as bs\n",
    "import requests\n",
    "import json"
   ]
  },
  {
   "cell_type": "code",
   "execution_count": 26,
   "metadata": {
    "collapsed": false
   },
   "outputs": [
    {
     "name": "stdout",
     "output_type": "stream",
     "text": [
      "200\n"
     ]
    }
   ],
   "source": [
    "url='http://allrecipes.com/recipe/11758/'\n",
    "\n",
    "# REQUEST ----------------------------------------------\n",
    "r = requests.get(url)\n",
    "# ------------------------------------------------------\n",
    "print(r.status_code)\n",
    "recipeHTML = r.text"
   ]
  },
  {
   "cell_type": "code",
   "execution_count": 71,
   "metadata": {
    "collapsed": true
   },
   "outputs": [],
   "source": [
    "def parseRecipeHTML(recipeHTML):\n",
    "    \n",
    "    out = {}\n",
    "    \n",
    "    # General information -------------------------------------------\n",
    "    recipeSoup = bs(recipeHTML, 'html.parser')\n",
    "    if (recipeSoup == None):\n",
    "        print('PARSE ERROR: the input is not an html')\n",
    "        return None\n",
    "    \n",
    "    summary = recipeSoup.find('section', {'class':'recipe-summary'})\n",
    "    if(summary == None):\n",
    "        print('PARSE ERROR: the summary is not define')\n",
    "        return None\n",
    "    \n",
    "    title = summary.find('h1', {'class':'recipe-summary__h1'})\n",
    "    if(title == None):\n",
    "        print('PARSE ERROR: the title is not define')\n",
    "        return None\n",
    "    \n",
    "    author = summary.find('span', {'itemprop':'author'})\n",
    "    if(author == None):\n",
    "        print('PARSE ERROR: the author is not define')\n",
    "        return None\n",
    "    \n",
    "    description = summary.find('div', {'itemprop':'description'})\n",
    "    if(description == None):\n",
    "        print('PARSE ERROR: the description is not define')\n",
    "        return None\n",
    "    \n",
    "    out['title'] = title.text\n",
    "    out['author'] = author.text\n",
    "    out['description'] = description.text\n",
    "    \n",
    "    # Ingredient information ------------------------------------------\n",
    "    ingredients = []\n",
    "    ingredient_section = recipeSoup.find('section', {'class':'recipe-ingredients'})\n",
    "    if(ingredient_section == None):\n",
    "        print('PARSE ERROR: the ingredient section is not define')\n",
    "        return None\n",
    "    \n",
    "    ingredient_list1 = ingredient_section.find('ul', {'id':'lst_ingredients_1'})\n",
    "    if(ingredient_list1 == None):\n",
    "        print('PARSE ERROR: the ingredient list1 is not define')\n",
    "        return None \n",
    "    ingredient_list1_list = ingredient_list1.find_all('li', {'class':'checkList__line'})\n",
    "    if(ingredient_list1_list == None):\n",
    "        print('PARSE ERROR: the ingredient_list1 list is not define')\n",
    "        return None\n",
    "    for i, ingredient in enumerate(ingredient_list1_list):\n",
    "        ingredient_text = ingredient.find('span', {'class':'recipe-ingred_txt'})\n",
    "        if(ingredient_text == None):\n",
    "            print('PARSE ERROR: ingredient_text {i} list is not define'.format(i=i))\n",
    "            return None\n",
    "        if (ingredient_text.text != 'Add all ingredients to list'):\n",
    "            ingredients.append(ingredient_text.text)\n",
    "          \n",
    "    ingredient_list2 = ingredient_section.find('ul', {'id':'lst_ingredients_2'})\n",
    "    if(ingredient_list2 == None):\n",
    "        print('PARSE ERROR: the ingredient list2 is not define')\n",
    "        return None\n",
    "    ingredient_list2_list = ingredient_list2.find_all('li', {'class':'checkList__line'})\n",
    "    if(ingredient_list2_list == None):\n",
    "        print('PARSE ERROR: the ingredient_list2 list is not define')\n",
    "        return None\n",
    "    for i, ingredient in enumerate(ingredient_list2_list):\n",
    "        ingredient_text = ingredient.find('span', {'class':'recipe-ingred_txt'})\n",
    "        if(ingredient_text == None):\n",
    "            print('PARSE ERROR: ingredient_text {i} list is not define'.format(i=i))\n",
    "            return None\n",
    "        if (ingredient_text.text != 'Add all ingredients to list'):\n",
    "            ingredients.append(ingredient_text.text)\n",
    "            \n",
    "    ingredient_list3 = ingredient_section.find('ul', {'id':'lst_ingredients_3'})\n",
    "    if(ingredient_list3 != None):\n",
    "        print('WARNING: ingredients have been ommitted')\n",
    "\n",
    "    out['ingredients'] = ingredients\n",
    "    \n",
    "    # Directives information ----------------------------------------\n",
    "    prepTimeValue = None\n",
    "    cookTimeValue = None\n",
    "    readyInTimeValue = None\n",
    "    instructionTexts = []\n",
    "    directives = recipeSoup.find('section', {'class':'recipe-directions'})\n",
    "    if (directives == None):\n",
    "        print('PARSE ERROR: the directives are not define')\n",
    "        return None\n",
    "    \n",
    "    directives_div_section = directives.find('div', {'class':'directions--section'})\n",
    "    if (directives_div_section == None):\n",
    "        print('PARSE ERROR: the directives_div_section is not define')\n",
    "        return None\n",
    "    \n",
    "    prepTime = directives_div_section.find('ul', {'class':'prepTime'})\n",
    "    if (prepTime == None):\n",
    "        print('PARSE ERROR: the prepTime is not define')\n",
    "        return None\n",
    "    \n",
    "    prepTime_items = prepTime.find_all('li', {'class':'prepTime__item'})\n",
    "    if (prepTime_items == None):\n",
    "        print('PARSE ERROR: the prepTime_items is not define')\n",
    "        return None\n",
    "    \n",
    "    for (i, item) in enumerate(prepTime_items):\n",
    "        p = item.find('p', {'class':'prepTime__item--type'})\n",
    "        time = item.find('time')\n",
    "\n",
    "        if(p != None):\n",
    "            if(p.text == 'Prep'):\n",
    "                prepTimeValue = time.text\n",
    "\n",
    "            elif(p.text == 'Cook'):\n",
    "                cookTimeValue = time.text\n",
    "\n",
    "            elif(p.text == 'Ready In'):\n",
    "                readyInTimeValue = time.text\n",
    "        \n",
    "            else:\n",
    "                print(p)\n",
    "                print('WARNING: other type if prepTime item')\n",
    "            \n",
    "    out['prepTime'] = prepTimeValue\n",
    "    out['cookTime'] = cookTimeValue\n",
    "    out['readyInTime'] = readyInTimeValue\n",
    "            \n",
    "            \n",
    "    directive_instruction = directives_div_section.find('ol', {'itemprop':'recipeInstructions'})\n",
    "    if (directive_instruction == None):\n",
    "        print('PARSE ERROR: the directive_instruction is not define')\n",
    "        return None\n",
    "    \n",
    "    directive_instruction_list = directive_instruction.find_all('li', {'class':'step'})\n",
    "    if (directive_instruction_list == None):\n",
    "        print('PARSE ERROR: the directive_instruction_list is not define')\n",
    "        return None\n",
    "    \n",
    "    for (i, instruction) in enumerate(directive_instruction_list):\n",
    "        span = instruction.find('span', {'class':'recipe-directions__list--item'})\n",
    "        if (span == None):\n",
    "            print('PARSE ERROR: the span in directive list is not define')\n",
    "            return None\n",
    "        instructionTexts.append(span.text)\n",
    "    \n",
    "    out['instructions'] = instructionTexts\n",
    "    \n",
    "    return out\n",
    "    "
   ]
  },
  {
   "cell_type": "code",
   "execution_count": 72,
   "metadata": {
    "collapsed": false
   },
   "outputs": [
    {
     "data": {
      "text/plain": [
       "{'author': 'Colleen B. Smith',\n",
       " 'cookTime': '35 m',\n",
       " 'description': '\\r\\n\"A lady I worked with brought this in one day, and it was a hit. Now it is the favorite of all my dinner guests. It\\'s great for a covered dish dinner too. I have made this also without the meat, and it is well received.\"        ',\n",
       " 'ingredients': ['1 pound dry ziti pasta',\n",
       "  '1 onion, chopped',\n",
       "  '1 pound lean ground beef',\n",
       "  '2 (26 ounce) jars spaghetti sauce',\n",
       "  '6 ounces provolone cheese, sliced',\n",
       "  '1 1/2 cups sour cream',\n",
       "  '6 ounces mozzarella cheese, shredded',\n",
       "  '2 tablespoons grated Parmesan cheese'],\n",
       " 'instructions': ['Bring a large pot of lightly salted water to a boil. Add ziti pasta, and cook until al dente, about 8 minutes; drain.',\n",
       "  'In a large skillet, brown onion and ground beef over medium heat. Add spaghetti sauce, and simmer 15 minutes.',\n",
       "  'Preheat the oven to 350 degrees F (175 degrees C). Butter a 9x13 inch baking dish. Layer as follows: 1/2 of the ziti, Provolone cheese, sour cream, 1/2 sauce mixture, remaining ziti, mozzarella cheese and remaining sauce mixture. Top with grated Parmesan cheese.',\n",
       "  'Bake for 30 minutes in the preheated oven, or until cheeses are melted.'],\n",
       " 'prepTime': '20 m',\n",
       " 'readyInTime': '55 m',\n",
       " 'title': 'Baked Ziti I'}"
      ]
     },
     "execution_count": 72,
     "metadata": {},
     "output_type": "execute_result"
    }
   ],
   "source": [
    "recipe = parseRecipeHTML(recipeHTML)\n",
    "recipe"
   ]
  },
  {
   "cell_type": "code",
   "execution_count": null,
   "metadata": {
    "collapsed": true
   },
   "outputs": [],
   "source": []
  },
  {
   "cell_type": "code",
   "execution_count": 75,
   "metadata": {
    "collapsed": false
   },
   "outputs": [],
   "source": [
    "s = requests.Session()\n",
    "# REQUEST ----------------------------------------------\n",
    "s.get(url)\n",
    "# ------------------------------------------------------\n",
    "token = s.cookies.get('ARToken')\n",
    "headers = {\n",
    "    'Origin':'http://allrecipes.com',\n",
    "    'X-Requested-With':'XMLHttpRequest',\n",
    "    'Authorization':'Bearer ' + token,\n",
    "    'Accept':'*/*',\n",
    "    'Referer':url\n",
    "}\n",
    "# REQUEST ----------------------------------------------\n",
    "#r = requests.get(url, headers=headers)\n",
    "# ------------------------------------------------------"
   ]
  },
  {
   "cell_type": "code",
   "execution_count": 76,
   "metadata": {
    "collapsed": false
   },
   "outputs": [
    {
     "data": {
      "text/plain": [
       "'EAAAADpvLRM06KcgqIhgjcn+tPdhBnmwWG9HT+JbohNsFlXW0DXUmAZ53MMLFT4DNGJp3LyFq1y/u7fEj5cu/sHdX4ZH6XjX5MJkpF7qzf3ktNaiGgswAtW8tluLWYiZTemqr0U563e9I8hYh87BAmkS1Nk='"
      ]
     },
     "execution_count": 76,
     "metadata": {},
     "output_type": "execute_result"
    }
   ],
   "source": [
    "token"
   ]
  },
  {
   "cell_type": "code",
   "execution_count": null,
   "metadata": {
    "collapsed": true
   },
   "outputs": [],
   "source": []
  }
 ],
 "metadata": {
  "anaconda-cloud": {},
  "kernelspec": {
   "display_name": "Python [Root]",
   "language": "python",
   "name": "Python [Root]"
  },
  "language_info": {
   "codemirror_mode": {
    "name": "ipython",
    "version": 3
   },
   "file_extension": ".py",
   "mimetype": "text/x-python",
   "name": "python",
   "nbconvert_exporter": "python",
   "pygments_lexer": "ipython3",
   "version": "3.5.2"
  }
 },
 "nbformat": 4,
 "nbformat_minor": 0
}
