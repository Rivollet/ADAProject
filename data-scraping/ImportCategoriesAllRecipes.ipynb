{
 "cells": [
  {
   "cell_type": "markdown",
   "metadata": {},
   "source": [
    "## Imports"
   ]
  },
  {
   "cell_type": "code",
   "execution_count": 1,
   "metadata": {
    "collapsed": true
   },
   "outputs": [],
   "source": [
    "import numpy as np\n",
    "import pandas as pd\n",
    "from bs4 import BeautifulSoup as bs\n",
    "import requests\n",
    "import json"
   ]
  },
  {
   "cell_type": "markdown",
   "metadata": {},
   "source": [
    "## Variables"
   ]
  },
  {
   "cell_type": "code",
   "execution_count": 4,
   "metadata": {
    "collapsed": false
   },
   "outputs": [],
   "source": [
    "urlBase = 'http://allrecipes.com'\n",
    "urlCategories = urlBase + '/recipes/?grouping=all'\n",
    "dataLocation = 'categories.json'"
   ]
  },
  {
   "cell_type": "markdown",
   "metadata": {},
   "source": [
    "## Functions (Auxiliar)"
   ]
  },
  {
   "cell_type": "code",
   "execution_count": 5,
   "metadata": {
    "collapsed": false
   },
   "outputs": [],
   "source": [
    "#/recipes/86/world-cuisine/\n",
    "#/recipes/233/world-cuisine/asian/\n",
    "def validLink(urlBase, urlLink):\n",
    "    out = True\n",
    "    u1 = urlBase[1:-1].split('/')\n",
    "    u2 = urlLink[1:-1].split('/')\n",
    "    if ((len(u2) - len(u1)) == 1):\n",
    "        for i in range(2, len(u1)):\n",
    "            if (u1[i] != u2[i]):\n",
    "                out = False\n",
    "            \n",
    "    \n",
    "    else: out = False\n",
    "\n",
    "    return out   \n",
    "validLink('/recipes/86/', '/recipes/233/world-cuisine/')\n",
    "\n",
    "\n",
    "def branchAlreadyExists(url, url_list):\n",
    "    out = False\n",
    "    n = len(url_list)\n",
    "    for i in range(n):\n",
    "        elm = url_list[i]\n",
    "        if (elm['url'] == url):\n",
    "            out = True\n",
    "    \n",
    "    return out"
   ]
  },
  {
   "cell_type": "markdown",
   "metadata": {},
   "source": [
    "## Functions (Scrap categories)"
   ]
  },
  {
   "cell_type": "code",
   "execution_count": 4,
   "metadata": {
    "collapsed": false
   },
   "outputs": [],
   "source": [
    "def provideTreeLevel0(tree):\n",
    "    \n",
    "    treeHasChanged = False\n",
    "    if(tree == None):\n",
    "        print('impossible to set the tree')\n",
    "    elif(not tree): # the dict is empty \n",
    "        tree['title'] = 'AllRecipes'\n",
    "        tree['url'] = urlBase\n",
    "        tree['children'] = None\n",
    "        treeHasChanged = True\n",
    "    else:\n",
    "        print('Please enter an empty dict')\n",
    "    return treeHasChanged\n",
    "    \n",
    "\n",
    "def provideTreeLevel1(tree):\n",
    "    \n",
    "    treeHasChanged = False    \n",
    "    url = urlCategories\n",
    "    \n",
    "    if (tree['children'] == None):\n",
    "        \n",
    "        # REQUEST ----------------------------------------------\n",
    "        categoriesHTML = requests.get(url).text\n",
    "        # ------------------------------------------------------\n",
    "\n",
    "        categoriesSoup = bs(categoriesHTML, 'html.parser')\n",
    "        cat = categoriesSoup.find('section', {'id':\"herolinks\"})\n",
    "        \n",
    "        if (cat != None):\n",
    "            cat = cat.find('div', {'class':\"grid ng-hide\", 'ng-show':\"showAll===true\"})\n",
    "            if (cat != None):\n",
    "                links = cat.find_all('a', {'class':\"hero-link__item\"})\n",
    "                n = len(links)\n",
    "                children = []\n",
    "                for i in range(n):\n",
    "                    link = links[i]\n",
    "                    dic = {'title': link['title'], 'url': link['href'], 'children': None}\n",
    "                    children.append(dic)\n",
    "\n",
    "                tree['children'] = children\n",
    "            else:\n",
    "                tree['children'] = 'EMPTY'\n",
    "        else:\n",
    "            tree['children'] = 'EMPTY'\n",
    "            \n",
    "        treeHasChanged = True\n",
    "        print('New entry in the dataset:')\n",
    "        print(url)\n",
    "        \n",
    "    else:\n",
    "        # Nothing to do\n",
    "        print('Data is already present: nothing to do !')\n",
    "        \n",
    "    return treeHasChanged\n",
    "\n",
    "\n",
    "def provideTreeLevel2(tree):\n",
    "    \n",
    "    treeHasChanged = False\n",
    "    url = urlBase + tree['url']\n",
    "    \n",
    "    if (tree['children'] == None):\n",
    "        \n",
    "        # REQUEST ----------------------------------------------\n",
    "        subCategoriesHTML = requests.get(url).text\n",
    "        # ------------------------------------------------------\n",
    "        \n",
    "        subCategoriesSoup = bs(subCategoriesHTML, 'html.parser')\n",
    "        subCat = subCategoriesSoup.find('section', {'class':\"hub-daughters\"})\n",
    "        \n",
    "        if (subCat != None):\n",
    "            subCat = subCat.find('div', {'id':\"hubDaughtersDiv\"})\n",
    "            if(subCat != None):\n",
    "\n",
    "                links = subCat.find_all('a', {'data-internal-referrer-link':\"hub nav\"})\n",
    "                m = len(links)\n",
    "                subData = []\n",
    "                for j in range(m):\n",
    "                    link = links[j]\n",
    "                    if (validLink(tree['url'], link['href'])):\n",
    "                        if (not branchAlreadyExists(link['href'], subData)):\n",
    "                            img = link.find('img')\n",
    "                            dic = {'title': img['title'], 'url': link['href'], 'children': None}\n",
    "                            subData.append(dic)\n",
    "                        else:\n",
    "                            print('the url already exists')\n",
    "                    else:\n",
    "                        print('the url is not a direct sub-category')\n",
    "\n",
    "                tree['children'] = subData\n",
    "            else:\n",
    "                tree['children'] = 'EMPTY'\n",
    "        else:\n",
    "            tree['children'] = 'EMPTY'\n",
    "        \n",
    "        treeHasChanged = True\n",
    "        print('New entry in the dataset:')\n",
    "        print(url)\n",
    "    \n",
    "    else:\n",
    "        # Nothing to do\n",
    "        pass\n",
    "    \n",
    "    return treeHasChanged"
   ]
  },
  {
   "cell_type": "markdown",
   "metadata": {},
   "source": [
    "## Functions (Iteration over branches)"
   ]
  },
  {
   "cell_type": "markdown",
   "metadata": {},
   "source": [
    "We will preform multiple network calls, and requests can fail. We don't want to saturate the website so we will fetch that we don't have !\n",
    "\n",
    "Fetch all categories if it is necessary:\n",
    "    * If 'children' value is at None, fetching as to be performed\n",
    "    * If 'children' value is provided, nothing to fetch\n",
    "    * If 'children' value is the string 'EMPTY', there is no child, nothing to fetch\n",
    "    "
   ]
  },
  {
   "cell_type": "code",
   "execution_count": 5,
   "metadata": {
    "collapsed": false
   },
   "outputs": [],
   "source": [
    "def BrowseTreeAuxi(tree, depth, nb_request, maxDepth, maxRequest):\n",
    "    \n",
    "    treeHasChanged = False\n",
    "    nb_local_request = nb_request\n",
    "    \n",
    "    if (nb_request < maxRequest):\n",
    "\n",
    "        if(not tree):\n",
    "            print('to process {level}'.format(level=depth))\n",
    "            treeHasChanged = provideTreeLevel0(tree)\n",
    "\n",
    "        elif(tree['children'] == 'EMPTY'):\n",
    "            # Do nothing\n",
    "            pass\n",
    "        elif(tree['children'] == None):\n",
    "\n",
    "            if(depth == 0):\n",
    "                print('At depth {level}:'.format(level=depth))\n",
    "                treeHasChanged = provideTreeLevel1(tree)\n",
    "                nb_local_request = nb_local_request + 1\n",
    "\n",
    "            elif(depth > 0):\n",
    "                print('At depth {level}:'.format(level=depth))\n",
    "                treeHasChanged = provideTreeLevel2(tree)\n",
    "                nb_local_request = nb_local_request + 1\n",
    "                \n",
    "\n",
    "        else:\n",
    "            if (depth < maxDepth): \n",
    "                for (i, child) in enumerate(tree['children']):\n",
    "                    change, nb = BrowseTreeAuxi(child, depth+1, nb_local_request, maxDepth, maxRequest)\n",
    "                    treeHasChanged = (treeHasChanged or change)\n",
    "                    nb_local_request = nb\n",
    "                    \n",
    "\n",
    "        if(treeHasChanged):\n",
    "            # re-browse\n",
    "            print('re-browse')\n",
    "            change, nb = BrowseTreeAuxi(tree, depth, nb_local_request, maxDepth, maxRequest)\n",
    "            treeHasChanged = (treeHasChanged or change)\n",
    "            nb_local_request = nb\n",
    "        else:\n",
    "            # Do nothing\n",
    "            pass\n",
    "        \n",
    "    else:\n",
    "        # Do nothing\n",
    "        print('Too many requests ({nb}) have been done'.format(nb=nb_request))\n",
    "    \n",
    "    return treeHasChanged, nb_local_request\n",
    "\n",
    "def BrowseTree(tree, maxDepth=10, maxRequest=12):\n",
    "    return BrowseTreeAuxi(tree, 0, 0, maxDepth, maxRequest)"
   ]
  },
  {
   "cell_type": "markdown",
   "metadata": {},
   "source": [
    "## Let's start !"
   ]
  },
  {
   "cell_type": "code",
   "execution_count": 6,
   "metadata": {
    "collapsed": false
   },
   "outputs": [],
   "source": [
    "data = {}\n",
    "\n",
    "# Import existing data\n",
    "try:\n",
    "    with open(dataLocation, 'r') as file:\n",
    "        data = json.load(file)\n",
    "        file.close()\n",
    "except IOError as e:\n",
    "    print('There is no data to import, a default data structure is created')\n"
   ]
  },
  {
   "cell_type": "code",
   "execution_count": 7,
   "metadata": {
    "collapsed": false
   },
   "outputs": [
    {
     "data": {
      "text/plain": [
       "(False, 0)"
      ]
     },
     "execution_count": 7,
     "metadata": {},
     "output_type": "execute_result"
    }
   ],
   "source": [
    "BrowseTree(data, maxDepth=10, maxRequest=500)"
   ]
  },
  {
   "cell_type": "code",
   "execution_count": 8,
   "metadata": {
    "collapsed": true
   },
   "outputs": [],
   "source": [
    "# Export data\n",
    "with open(dataLocation, 'w') as file:\n",
    "    json.dump(data, file, sort_keys=True, indent=4)"
   ]
  },
  {
   "cell_type": "markdown",
   "metadata": {},
   "source": [
    "number of requests by depth\n",
    "    * 0 -> 1\n",
    "    * 1 -> 23\n",
    "    * 2 -> 263\n",
    "    * 3 -> 1255\n",
    "    * 4 -> 877\n",
    "    * 5 -> 112\n",
    "    * 6 -> 8\n",
    "    * 7 -> 0"
   ]
  }
 ],
 "metadata": {
  "anaconda-cloud": {},
  "kernelspec": {
   "display_name": "Python [Root]",
   "language": "python",
   "name": "Python [Root]"
  },
  "language_info": {
   "codemirror_mode": {
    "name": "ipython",
    "version": 3
   },
   "file_extension": ".py",
   "mimetype": "text/x-python",
   "name": "python",
   "nbconvert_exporter": "python",
   "pygments_lexer": "ipython3",
   "version": "3.5.2"
  }
 },
 "nbformat": 4,
 "nbformat_minor": 0
}
