{
 "cells": [
  {
   "cell_type": "code",
   "execution_count": 1,
   "metadata": {
    "collapsed": true
   },
   "outputs": [],
   "source": [
    "import numpy as np\n",
    "import pandas as pd"
   ]
  },
  {
   "cell_type": "code",
   "execution_count": 2,
   "metadata": {
    "collapsed": true
   },
   "outputs": [],
   "source": [
    "basePath = '/Volumes/Data/Documents/Cuisine/'\n",
    "locationFood = basePath + 'foods.txt'\n",
    "locationOpenFood = basePath + 'en.openfoodfacts.org.products.csv'"
   ]
  },
  {
   "cell_type": "code",
   "execution_count": 3,
   "metadata": {
    "collapsed": false
   },
   "outputs": [],
   "source": [
    "def isBlank (myString):\n",
    "    return not (myString and myString.strip())\n",
    "\n",
    "def isNotBlank (myString):\n",
    "    return (myString and myString.strip())\n",
    "\n",
    "def removeLastLineReturn(myString):\n",
    "    if (myString[-1] == '\\n'):\n",
    "        return myString[:-1]\n",
    "    else:\n",
    "        return myString\n",
    "    \n",
    "def importDataFoodReviews(location):\n",
    "    \n",
    "    t = ['product/productId', 'review/userId', 'review/profileName', 'review/helpfulness', \n",
    "         'review/score', 'review/time', 'review/summary', 'review/text']\n",
    "\n",
    "    lines = []\n",
    "    data = []\n",
    "    row = []\n",
    "    i = 0;\n",
    "    with open(location, encoding = \"ISO-8859-1\") as file:\n",
    "\n",
    "        for line in file:\n",
    "            #line = lines[i]\n",
    "\n",
    "            if (isNotBlank(line)):\n",
    "                splittedLine = line.split(': ', 1)\n",
    "\n",
    "                if (len(splittedLine) == 1):\n",
    "                    # DO NOTHING\n",
    "                    pass\n",
    "                elif (len(splittedLine) == 2):\n",
    "                    row.append(removeLastLineReturn(splittedLine[1]))\n",
    "                else:\n",
    "                    print('{i} and {split}'.format(i=i, split=len(splittedLine)))\n",
    "\n",
    "            else:\n",
    "                data.append(row)\n",
    "                row = []\n",
    "                i = i+1\n",
    "            \n",
    "    return pd.DataFrame(data, columns=t)\n",
    "\n",
    "frame = importDataFoodReviews(locationFood)"
   ]
  },
  {
   "cell_type": "code",
   "execution_count": 4,
   "metadata": {
    "collapsed": false
   },
   "outputs": [],
   "source": [
    "frame[['url']] = 'amazon.com/dp/' + frame[['product/productId']]"
   ]
  },
  {
   "cell_type": "code",
   "execution_count": 5,
   "metadata": {
    "collapsed": false
   },
   "outputs": [
    {
     "data": {
      "text/html": [
       "<div>\n",
       "<table border=\"1\" class=\"dataframe\">\n",
       "  <thead>\n",
       "    <tr style=\"text-align: right;\">\n",
       "      <th></th>\n",
       "      <th>product/productId</th>\n",
       "      <th>review/userId</th>\n",
       "      <th>review/profileName</th>\n",
       "      <th>review/helpfulness</th>\n",
       "      <th>review/score</th>\n",
       "      <th>review/time</th>\n",
       "      <th>review/summary</th>\n",
       "      <th>review/text</th>\n",
       "      <th>url</th>\n",
       "    </tr>\n",
       "  </thead>\n",
       "  <tbody>\n",
       "    <tr>\n",
       "      <th>0</th>\n",
       "      <td>B001E4KFG0</td>\n",
       "      <td>A3SGXH7AUHU8GW</td>\n",
       "      <td>delmartian</td>\n",
       "      <td>1/1</td>\n",
       "      <td>5.0</td>\n",
       "      <td>1303862400</td>\n",
       "      <td>Good Quality Dog Food</td>\n",
       "      <td>I have bought several of the Vitality canned d...</td>\n",
       "      <td>amazon.com/dp/B001E4KFG0</td>\n",
       "    </tr>\n",
       "    <tr>\n",
       "      <th>1</th>\n",
       "      <td>B00813GRG4</td>\n",
       "      <td>A1D87F6ZCVE5NK</td>\n",
       "      <td>dll pa</td>\n",
       "      <td>0/0</td>\n",
       "      <td>1.0</td>\n",
       "      <td>1346976000</td>\n",
       "      <td>Not as Advertised</td>\n",
       "      <td>Product arrived labeled as Jumbo Salted Peanut...</td>\n",
       "      <td>amazon.com/dp/B00813GRG4</td>\n",
       "    </tr>\n",
       "    <tr>\n",
       "      <th>2</th>\n",
       "      <td>B000LQOCH0</td>\n",
       "      <td>ABXLMWJIXXAIN</td>\n",
       "      <td>Natalia Corres \"Natalia Corres\"</td>\n",
       "      <td>1/1</td>\n",
       "      <td>4.0</td>\n",
       "      <td>1219017600</td>\n",
       "      <td>\"Delight\" says it all</td>\n",
       "      <td>This is a confection that has been around a fe...</td>\n",
       "      <td>amazon.com/dp/B000LQOCH0</td>\n",
       "    </tr>\n",
       "    <tr>\n",
       "      <th>3</th>\n",
       "      <td>B000UA0QIQ</td>\n",
       "      <td>A395BORC6FGVXV</td>\n",
       "      <td>Karl</td>\n",
       "      <td>3/3</td>\n",
       "      <td>2.0</td>\n",
       "      <td>1307923200</td>\n",
       "      <td>Cough Medicine</td>\n",
       "      <td>If you are looking for the secret ingredient i...</td>\n",
       "      <td>amazon.com/dp/B000UA0QIQ</td>\n",
       "    </tr>\n",
       "    <tr>\n",
       "      <th>4</th>\n",
       "      <td>B006K2ZZ7K</td>\n",
       "      <td>A1UQRSCLF8GW1T</td>\n",
       "      <td>Michael D. Bigham \"M. Wassir\"</td>\n",
       "      <td>0/0</td>\n",
       "      <td>5.0</td>\n",
       "      <td>1350777600</td>\n",
       "      <td>Great taffy</td>\n",
       "      <td>Great taffy at a great price.  There was a wid...</td>\n",
       "      <td>amazon.com/dp/B006K2ZZ7K</td>\n",
       "    </tr>\n",
       "  </tbody>\n",
       "</table>\n",
       "</div>"
      ],
      "text/plain": [
       "  product/productId   review/userId               review/profileName  \\\n",
       "0        B001E4KFG0  A3SGXH7AUHU8GW                       delmartian   \n",
       "1        B00813GRG4  A1D87F6ZCVE5NK                           dll pa   \n",
       "2        B000LQOCH0   ABXLMWJIXXAIN  Natalia Corres \"Natalia Corres\"   \n",
       "3        B000UA0QIQ  A395BORC6FGVXV                             Karl   \n",
       "4        B006K2ZZ7K  A1UQRSCLF8GW1T    Michael D. Bigham \"M. Wassir\"   \n",
       "\n",
       "  review/helpfulness review/score review/time         review/summary  \\\n",
       "0                1/1          5.0  1303862400  Good Quality Dog Food   \n",
       "1                0/0          1.0  1346976000      Not as Advertised   \n",
       "2                1/1          4.0  1219017600  \"Delight\" says it all   \n",
       "3                3/3          2.0  1307923200         Cough Medicine   \n",
       "4                0/0          5.0  1350777600            Great taffy   \n",
       "\n",
       "                                         review/text                       url  \n",
       "0  I have bought several of the Vitality canned d...  amazon.com/dp/B001E4KFG0  \n",
       "1  Product arrived labeled as Jumbo Salted Peanut...  amazon.com/dp/B00813GRG4  \n",
       "2  This is a confection that has been around a fe...  amazon.com/dp/B000LQOCH0  \n",
       "3  If you are looking for the secret ingredient i...  amazon.com/dp/B000UA0QIQ  \n",
       "4  Great taffy at a great price.  There was a wid...  amazon.com/dp/B006K2ZZ7K  "
      ]
     },
     "execution_count": 5,
     "metadata": {},
     "output_type": "execute_result"
    }
   ],
   "source": [
    "frame.head()"
   ]
  },
  {
   "cell_type": "code",
   "execution_count": 6,
   "metadata": {
    "collapsed": false
   },
   "outputs": [
    {
     "name": "stderr",
     "output_type": "stream",
     "text": [
      "/Users/loicveyssiere/anaconda/lib/python3.5/site-packages/IPython/core/interactiveshell.py:2723: DtypeWarning: Columns (0,3,5,27,36) have mixed types. Specify dtype option on import or set low_memory=False.\n",
      "  interactivity=interactivity, compiler=compiler, result=result)\n"
     ]
    }
   ],
   "source": [
    "foodfacts = pd.read_csv(locationOpenFood, sep='\\t')"
   ]
  },
  {
   "cell_type": "code",
   "execution_count": 7,
   "metadata": {
    "collapsed": false,
    "scrolled": true
   },
   "outputs": [
    {
     "data": {
      "text/plain": [
       "France                                                            68183\n",
       "Germany                                                            6610\n",
       "United Kingdom                                                     4658\n",
       "Spain                                                              4102\n",
       "Belgium                                                            2876\n",
       "United States                                                      2855\n",
       "Switzerland                                                        2624\n",
       "Australia                                                          1861\n",
       "Italy                                                              1074\n",
       "Russia                                                              877\n",
       "Canada                                                              713\n",
       "Portugal                                                            660\n",
       "Netherlands                                                         438\n",
       "Brazil                                                              335\n",
       "Belgium,France                                                      287\n",
       "Austria                                                             270\n",
       "Hungary                                                             240\n",
       "Denmark                                                             232\n",
       "China                                                               179\n",
       "France,Germany                                                      170\n",
       "Ireland                                                             169\n",
       "Czech Republic                                                      166\n",
       "Luxembourg                                                          162\n",
       "Réunion                                                             159\n",
       "Thailand                                                            158\n",
       "Romania                                                             149\n",
       "Japan                                                               148\n",
       "Taiwan                                                              148\n",
       "Tunisia                                                             136\n",
       "Hong Kong                                                           131\n",
       "                                                                  ...  \n",
       "Guinea-Bissau                                                         1\n",
       "France,French Guiana,Greece,Guadeloupe,Suriname,United Kingdom        1\n",
       "Bosnia and Herzegovina                                                1\n",
       "Belgium,France,Germany,Hungary,Switzerland                            1\n",
       "France,Greece,Spain                                                   1\n",
       "France,Kuwait                                                         1\n",
       "Belgium,United Kingdom                                                1\n",
       "France,Vanuatu                                                        1\n",
       "Estonia,France                                                        1\n",
       "China,Denmark,France,Sweden                                           1\n",
       "Belarus,Georgia,Kazakhstan,Russia,Ukraine                             1\n",
       "Georgia                                                               1\n",
       "Austria,France,Germany,Italy,Switzerland                              1\n",
       "France,Germany,Romania,United Kingdom,de:Scotland                     1\n",
       "Czech Republic,United Kingdom                                         1\n",
       "Germany,de:Weltweit,Worldwide                                         1\n",
       "Honduras                                                              1\n",
       "Austria,Germany,Spain                                                 1\n",
       "Democratic Republic of the Congo                                      1\n",
       "Andorra,France                                                        1\n",
       "Morocco,Spain                                                         1\n",
       "fr:Angleterre                                                         1\n",
       "France,Thailand,United Kingdom                                        1\n",
       "Other-turquie                                                         1\n",
       "Italy,Switzerland                                                     1\n",
       "Denmark,France,Italy,United Kingdom                                   1\n",
       "Japan,日本                                                              1\n",
       "Lithuania,United Kingdom                                              1\n",
       "Hong Kong,United States                                               1\n",
       "Uruguay                                                               1\n",
       "Name: countries_en, dtype: int64"
      ]
     },
     "execution_count": 7,
     "metadata": {},
     "output_type": "execute_result"
    }
   ],
   "source": [
    "foodfacts.countries_en.value_counts()"
   ]
  },
  {
   "cell_type": "code",
   "execution_count": 9,
   "metadata": {
    "collapsed": false
   },
   "outputs": [
    {
     "data": {
      "text/plain": [
       "0                                                       NaN\n",
       "1                                         fr:filet-de-boeuf\n",
       "2                                                       NaN\n",
       "3                                                       NaN\n",
       "4                                                       NaN\n",
       "5                                                       NaN\n",
       "6                                                       NaN\n",
       "7                                                       NaN\n",
       "8         en:plant-based-foods-and-beverages,en:plant-ba...\n",
       "9                                                       NaN\n",
       "10                                                      NaN\n",
       "11                                                      NaN\n",
       "12        en:plant-based-foods-and-beverages,en:plant-ba...\n",
       "13                                             fr:root-bier\n",
       "14        en:sugary-snacks,en:biscuits-and-cakes,en:bisc...\n",
       "15        en:plant-based-foods-and-beverages,en:beverage...\n",
       "16                         en:syrups,fr:sirops-pour-ganache\n",
       "17                                          en:chicken-feet\n",
       "18                                                      NaN\n",
       "19                                                      NaN\n",
       "20                                                      NaN\n",
       "21            en:desserts,en:christmas-puddings,en:puddings\n",
       "22        en:sugary-snacks,en:desserts,en:biscuits-and-c...\n",
       "23                                                      NaN\n",
       "24        en:beverages,en:carbonated-drinks,en:sodas,en:...\n",
       "25                                                      NaN\n",
       "26                                                      NaN\n",
       "27                                                      NaN\n",
       "28                                                      NaN\n",
       "29                                                      NaN\n",
       "                                ...                        \n",
       "104778                                                  NaN\n",
       "104779                      en:seafood,en:fishes,en:salmons\n",
       "104780                                                  NaN\n",
       "104781                                                  NaN\n",
       "104782                                                  NaN\n",
       "104783                                                  NaN\n",
       "104784                                                  NaN\n",
       "104785           fr:attieke,fr:manioc,fr:semoules-de-manioc\n",
       "104786                                                  NaN\n",
       "104787                                                  NaN\n",
       "104788                                                  NaN\n",
       "104789                                                  NaN\n",
       "104790    en:plant-based-foods-and-beverages,en:plant-ba...\n",
       "104791                                                  NaN\n",
       "104792            en:meats,en:pork,en:bacon,en:sliced-bacon\n",
       "104793    en:plant-based-foods-and-beverages,en:plant-ba...\n",
       "104794    en:beverages,en:carbonated-drinks,en:sodas,en:...\n",
       "104795    en:beverages,en:alcoholic-beverages,en:beers,e...\n",
       "104796                                                  NaN\n",
       "104797                                                  NaN\n",
       "104798    en:breakfasts,en:spreads,en:sweet-spreads,en:b...\n",
       "104799    en:plant-based-foods-and-beverages,en:plant-ba...\n",
       "104800                                                  NaN\n",
       "104801    en:beverages,en:alcoholic-beverages,en:wines,e...\n",
       "104802                                            pl:szprot\n",
       "104803    en:plant-based-foods-and-beverages,en:beverage...\n",
       "104804                                                  NaN\n",
       "104805    en:meats,en:spreads,en:prepared-meats,en:salte...\n",
       "104806    en:plant-based-foods-and-beverages,en:plant-ba...\n",
       "104807    en:salty-snacks,en:appetizers,en:chips-and-fri...\n",
       "Name: categories_tags, dtype: object"
      ]
     },
     "execution_count": 9,
     "metadata": {},
     "output_type": "execute_result"
    }
   ],
   "source": [
    "foodfacts.categories_tags"
   ]
  },
  {
   "cell_type": "code",
   "execution_count": null,
   "metadata": {
    "collapsed": true
   },
   "outputs": [],
   "source": []
  }
 ],
 "metadata": {
  "anaconda-cloud": {},
  "kernelspec": {
   "display_name": "Python [Root]",
   "language": "python",
   "name": "Python [Root]"
  },
  "language_info": {
   "codemirror_mode": {
    "name": "ipython",
    "version": 3
   },
   "file_extension": ".py",
   "mimetype": "text/x-python",
   "name": "python",
   "nbconvert_exporter": "python",
   "pygments_lexer": "ipython3",
   "version": "3.5.2"
  }
 },
 "nbformat": 4,
 "nbformat_minor": 0
}
